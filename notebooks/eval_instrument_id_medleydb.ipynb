{
 "cells": [
  {
   "cell_type": "code",
   "execution_count": 1,
   "id": "90b8464b",
   "metadata": {},
   "outputs": [
    {
     "name": "stderr",
     "output_type": "stream",
     "text": [
      "/Users/jpgard/opt/miniconda3/envs/m2t/lib/python3.10/site-packages/pandas/core/arrays/masked.py:60: UserWarning: Pandas requires version '1.3.6' or newer of 'bottleneck' (version '1.3.5' currently installed).\n",
      "  from pandas.core import (\n"
     ]
    }
   ],
   "source": [
    "import os\n",
    "from collections import Counter\n",
    "from collections import defaultdict\n",
    "from pprint import pprint\n",
    "\n",
    "import pandas as pd\n",
    "import yaml\n",
    "\n",
    "from m2t.dataset_utils import fetch_audio_start_end\n"
   ]
  },
  {
   "cell_type": "code",
   "execution_count": 2,
   "id": "db3938f1",
   "metadata": {},
   "outputs": [],
   "source": [
    "VERBOSE = False"
   ]
  },
  {
   "cell_type": "markdown",
   "id": "30e12aab",
   "metadata": {},
   "source": [
    "# Medleydb"
   ]
  },
  {
   "cell_type": "code",
   "execution_count": 78,
   "id": "e7a35ed2",
   "metadata": {},
   "outputs": [
    {
     "data": {
      "text/html": [
       "<div>\n",
       "<style scoped>\n",
       "    .dataframe tbody tr th:only-of-type {\n",
       "        vertical-align: middle;\n",
       "    }\n",
       "\n",
       "    .dataframe tbody tr th {\n",
       "        vertical-align: top;\n",
       "    }\n",
       "\n",
       "    .dataframe thead th {\n",
       "        text-align: right;\n",
       "    }\n",
       "</style>\n",
       "<table border=\"1\" class=\"dataframe\">\n",
       "  <thead>\n",
       "    <tr style=\"text-align: right;\">\n",
       "      <th></th>\n",
       "      <th>example_id</th>\n",
       "      <th>prompt</th>\n",
       "      <th>imagebind_llm_caption</th>\n",
       "      <th>id</th>\n",
       "    </tr>\n",
       "  </thead>\n",
       "  <tbody>\n",
       "    <tr>\n",
       "      <th>0</th>\n",
       "      <td>KarimDouaidy_Yatora_MIX-start30.000-end60.000</td>\n",
       "      <td>List the instruments you hear in this clip, in...</td>\n",
       "      <td>In this clip, you can hear a guitar, a keyboar...</td>\n",
       "      <td>KarimDouaidy_Yatora</td>\n",
       "    </tr>\n",
       "    <tr>\n",
       "      <th>1</th>\n",
       "      <td>MusicDelta_ChineseJiangNan_MIX-start0.000-end2...</td>\n",
       "      <td>List the instruments you hear in this clip, in...</td>\n",
       "      <td>In this clip, you can hear a piano, a violin, ...</td>\n",
       "      <td>MusicDelta_ChineseJiangNan</td>\n",
       "    </tr>\n",
       "    <tr>\n",
       "      <th>2</th>\n",
       "      <td>ClaraBerryAndWooldog_AirTraffic_MIX-start30.00...</td>\n",
       "      <td>List the instruments you hear in this clip, in...</td>\n",
       "      <td>In this clip, you can hear a guitar, a piano, ...</td>\n",
       "      <td>ClaraBerryAndWooldog_AirTraffic</td>\n",
       "    </tr>\n",
       "    <tr>\n",
       "      <th>3</th>\n",
       "      <td>MusicDelta_FreeJazz_MIX-start30.000-end60.000</td>\n",
       "      <td>List the instruments you hear in this clip, in...</td>\n",
       "      <td>In this clip, you can hear a saxophone, a trum...</td>\n",
       "      <td>MusicDelta_FreeJazz</td>\n",
       "    </tr>\n",
       "    <tr>\n",
       "      <th>4</th>\n",
       "      <td>CroqueMadame_Oil_MIX-start30.000-end60.000</td>\n",
       "      <td>List the instruments you hear in this clip, in...</td>\n",
       "      <td>In this clip, you can hear a guitar, bass, and...</td>\n",
       "      <td>CroqueMadame_Oil</td>\n",
       "    </tr>\n",
       "  </tbody>\n",
       "</table>\n",
       "</div>"
      ],
      "text/plain": [
       "                                          example_id  \\\n",
       "0      KarimDouaidy_Yatora_MIX-start30.000-end60.000   \n",
       "1  MusicDelta_ChineseJiangNan_MIX-start0.000-end2...   \n",
       "2  ClaraBerryAndWooldog_AirTraffic_MIX-start30.00...   \n",
       "3      MusicDelta_FreeJazz_MIX-start30.000-end60.000   \n",
       "4         CroqueMadame_Oil_MIX-start30.000-end60.000   \n",
       "\n",
       "                                              prompt  \\\n",
       "0  List the instruments you hear in this clip, in...   \n",
       "1  List the instruments you hear in this clip, in...   \n",
       "2  List the instruments you hear in this clip, in...   \n",
       "3  List the instruments you hear in this clip, in...   \n",
       "4  List the instruments you hear in this clip, in...   \n",
       "\n",
       "                               imagebind_llm_caption  \\\n",
       "0  In this clip, you can hear a guitar, a keyboar...   \n",
       "1  In this clip, you can hear a piano, a violin, ...   \n",
       "2  In this clip, you can hear a guitar, a piano, ...   \n",
       "3  In this clip, you can hear a saxophone, a trum...   \n",
       "4  In this clip, you can hear a guitar, bass, and...   \n",
       "\n",
       "                                id  \n",
       "0              KarimDouaidy_Yatora  \n",
       "1       MusicDelta_ChineseJiangNan  \n",
       "2  ClaraBerryAndWooldog_AirTraffic  \n",
       "3              MusicDelta_FreeJazz  \n",
       "4                 CroqueMadame_Oil  "
      ]
     },
     "execution_count": 78,
     "metadata": {},
     "output_type": "execute_result"
    }
   ],
   "source": [
    "# v5\n",
    "# MODEL_COMPLETION_TEXT_COLNAME = 'model_completion_text'\n",
    "# medleydb_inference = pd.read_csv(\"../inference-results/v5/infer_results_medleydb_instruments_v5_100k.csv\")\n",
    "\n",
    "# # v8\n",
    "# MODEL_COMPLETION_TEXT_COLNAME = 'model_completion_text'\n",
    "# medleydb_inference = pd.read_csv(\"/Users/joshg/projects/music2text/inference-results/v8/infer_results_medleydb_instruments_v8_100000steps.csv\")\n",
    "\n",
    "# v9\n",
    "# MODEL_COMPLETION_TEXT_COLNAME = 'model_completion_text'\n",
    "# medleydb_inference = pd.read_csv(\"/Users/joshg/projects/music2text/inference-results/v9/infer_results_medleydb_instruments_v9_100000steps.csv\")\n",
    "\n",
    "\n",
    "# MODEL_COMPLETION_TEXT_COLNAME = 'ltu_caption'\n",
    "# medleydb_inference = pd.read_csv(\"../inference-results/ltu/listen_think_understand_medleydb_instruments.csv\")\n",
    "\n",
    "MODEL_COMPLETION_TEXT_COLNAME = 'imagebind_llm_caption'\n",
    "medleydb_inference = pd.read_csv(\"../inference-results/imagebind-llm/imagebind-llm_medleydb_instruments.csv\")\n",
    "\n",
    "\n",
    "# ablations\n",
    "# MODEL_COMPLETION_TEXT_COLNAME = 'model_completion_text'\n",
    "# medleydb_inference = pd.read_csv(\"/Users/joshg/projects/music2text/inference-results/ablations/infer_results_medleydb_instruments_clap_100000steps.csv\")\n",
    "# medleydb_inference = pd.read_csv(\"/Users/joshg/projects/music2text/inference-results/ablations/infer_results_medleydb_instruments_ablation-mpt1b_100000steps.csv\")\n",
    "# medleydb_inference = pd.read_csv(\"/Users/joshg/projects/music2text/inference-results/ablations/infer_results_medleydb_instruments_data-ablation-1pct_100000steps.csv\")\n",
    "# medleydb_inference = pd.read_csv(\"/Users/joshg/projects/music2text/inference-results/ablations/infer_results_medleydb_instruments_data-ablation-10pct_100000steps.csv\")\n",
    "# medleydb_inference = pd.read_csv(\"/Users/joshg/projects/music2text/inference-results/ablations/infer_results_medleydb_instruments_data-ablation-50pct_100000steps.csv\")\n",
    "\n",
    "\n",
    "def _id_parse_fn(id_str):\n",
    "    if \"_MIX\" in id_str:\n",
    "        return os.path.basename(id_str).split(\"_MIX\")[0]\n",
    "    else:\n",
    "        return id_str\n",
    "\n",
    "\n",
    "medleydb_inference['id'] = medleydb_inference['example_id'].apply(_id_parse_fn)\n",
    "medleydb_inference.head()"
   ]
  },
  {
   "cell_type": "code",
   "execution_count": 79,
   "id": "a65980f5",
   "metadata": {},
   "outputs": [],
   "source": [
    "if VERBOSE:\n",
    "    print(medleydb_inference[MODEL_COMPLETION_TEXT_COLNAME].tolist())"
   ]
  },
  {
   "cell_type": "code",
   "execution_count": 80,
   "id": "0c600248",
   "metadata": {},
   "outputs": [
    {
     "name": "stdout",
     "output_type": "stream",
     "text": [
      "skipping file MusicDelta_Beethoven_MIX-start0.000-end0.000.wav with zero duration.\n",
      "skipping file MusicDelta_Country2_MIX-start0.000-end0.000.wav with zero duration.\n",
      "skipping file MusicDelta_Hendrix_MIX-start0.000-end0.000.wav with zero duration.\n",
      "skipping file MusicDelta_InTheHalloftheMountainKing_MIX-start0.000-end0.000.wav with zero duration.\n",
      "skipping file MusicDelta_Punk_MIX-start0.000-end0.000.wav with zero duration.\n",
      "skipping file MusicDelta_Reggae_MIX-start0.000-end0.000.wav with zero duration.\n",
      "skipping file MusicDelta_Rock_MIX-start0.000-end0.000.wav with zero duration.\n",
      "skipping file MusicDelta_Rockabilly_MIX-start0.000-end0.000.wav with zero duration.\n",
      "skipping file MusicDelta_Vivaldi_MIX-start0.000-end0.000.wav with zero duration.\n",
      "skipping file MusicDelta_Zeppelin_MIX-start0.000-end0.000.wav with zero duration.\n"
     ]
    }
   ],
   "source": [
    "# load medleydb results\n",
    "\n",
    "def load_medleydb_instruments(medleydb_dir=\"../datasets/medleydb\"):\n",
    "    audio_files = os.listdir(os.path.join(medleydb_dir, \"wav-crop\"))\n",
    "\n",
    "    mdb_data = defaultdict(dict)\n",
    "    for audio_file in audio_files:\n",
    "        start, end = fetch_audio_start_end(audio_file)\n",
    "        if start == 0. and end == 0.:\n",
    "            print(f\"skipping file {audio_file} with zero duration.\")\n",
    "            continue\n",
    "        mdb_id = audio_file.split(\"_MIX-start\")[0]\n",
    "        mdb_data[mdb_id][\"audio_file\"] = audio_file\n",
    "        mdb_data[mdb_id][\"start\"] = start\n",
    "        mdb_data[mdb_id][\"end\"] = end\n",
    "        meta_fp = os.path.join(medleydb_dir, \"metadata\", mdb_id + \"_METADATA.yaml\")\n",
    "        with open(meta_fp, \"r\") as f:\n",
    "            metadata = yaml.safe_load(f)\n",
    "        mdb_data[mdb_id][\"metadata\"] = metadata\n",
    "\n",
    "        stems_to_instruments = {k: v['instrument'] for k, v in metadata['stems'].items()}\n",
    "        #         print(stems_to_instruments)\n",
    "\n",
    "        activations_fp = os.path.join(medleydb_dir, \"activations-original\", mdb_id + \"_ACTIVATION_CONF.lab\")\n",
    "        activations = pd.read_csv(activations_fp).rename(columns=stems_to_instruments)\n",
    "        activations = activations.query(f\"time >= {start} & time <= {end}\")\n",
    "        mdb_data[mdb_id][\"activations\"] = activations\n",
    "\n",
    "        activated_counts = (activations.iloc[:, 1:] > 0.5).sum()\n",
    "        mdb_data[mdb_id][\"active_instruments\"] = activated_counts.index[activated_counts > 0].tolist()\n",
    "\n",
    "    return mdb_data\n",
    "\n",
    "\n",
    "mdb_data = load_medleydb_instruments()"
   ]
  },
  {
   "cell_type": "code",
   "execution_count": 81,
   "id": "2e8b0f59",
   "metadata": {},
   "outputs": [
    {
     "name": "stdout",
     "output_type": "stream",
     "text": [
      "AClassicEducation_NightOwl instruments: ['electric bass', 'drum set', 'distorted electric guitar', 'distorted electric guitar', 'clean electric guitar', 'male singer', 'synthesizer', 'vocalists', 'tambourine', 'fx/processed sound', 'male singer']\n",
      "AimeeNorwich_Child instruments: ['drum set', 'electric bass', 'clean electric guitar', 'female singer', 'vocalists', 'acoustic guitar']\n",
      "AimeeNorwich_Flying instruments: ['drum set', 'electric bass', 'clean electric guitar', 'clean electric guitar', 'fx/processed sound', 'fx/processed sound']\n",
      "AlexanderRoss_GoodbyeBolero instruments: ['acoustic guitar', 'clean electric guitar', 'electric bass', 'drum set', 'male singer', 'brass section', 'viola section']\n",
      "AlexanderRoss_VelvetCurtain instruments: ['acoustic guitar', 'male singer']\n",
      "AmarLal_Rest instruments: ['clean electric guitar']\n",
      "AmarLal_SpringDay1 instruments: ['acoustic guitar']\n",
      "Auctioneer_OurFutureFaces instruments: ['electric bass', 'vocalists', 'drum set', 'clean electric guitar', 'horn section', 'vibraphone', 'male singer', 'auxiliary percussion']\n",
      "AvaLuna_Waterduct instruments: ['electric bass', 'synthesizer', 'drum set', 'distorted electric guitar', 'male singer']\n",
      "BigTroubles_Phantom instruments: ['electric bass', 'drum set', 'distorted electric guitar', 'male singer', 'distorted electric guitar', 'distorted electric guitar']\n",
      "BrandonWebster_DontHearAThing instruments: ['female singer', 'piano']\n",
      "BrandonWebster_YesSirICanFly instruments: ['piano', 'male singer']\n",
      "CelestialShore_DieForUs instruments: ['male singer', 'female singer', 'electric bass', 'drum set', 'clean electric guitar', 'synthesizer']\n",
      "ChrisJacoby_BoothShotLincoln instruments: ['drum machine', 'mandolin', 'clean electric guitar', 'tabla']\n",
      "ChrisJacoby_PigsFoot instruments: ['kick drum', 'mandolin', 'electric bass', 'tabla']\n",
      "ClaraBerryAndWooldog_AirTraffic instruments: ['drum set', 'timpani', 'electric bass', 'lap steel guitar', 'piano', 'female singer', 'female singer']\n",
      "ClaraBerryAndWooldog_Boys instruments: ['drum set', 'snare drum', 'brass section', 'timpani', 'piano', 'female singer', 'vocalists', 'tack piano']\n",
      "ClaraBerryAndWooldog_Stella instruments: ['drum set', 'auxiliary percussion', 'electric bass', 'piano', 'female singer', 'vocalists']\n",
      "ClaraBerryAndWooldog_TheBadGuys instruments: ['piano', 'female singer']\n",
      "ClaraBerryAndWooldog_WaltzForMyVictims instruments: ['drum set', 'electric bass', 'piano', 'female singer']\n",
      "Creepoid_OldTree instruments: ['vocalists', 'electric bass', 'drum set', 'distorted electric guitar', 'distorted electric guitar', 'male singer', 'auxiliary percussion']\n",
      "CroqueMadame_Oil instruments: ['piano', 'clean electric guitar', 'double bass', 'drum set']\n",
      "CroqueMadame_Pilot instruments: ['piano', 'clean electric guitar', 'double bass', 'drum set']\n",
      "Debussy_LenfantProdigue instruments: ['male singer', 'piano']\n",
      "DreamersOfTheGhetto_HeavyLove instruments: ['drum set', 'male singer', 'synthesizer']\n",
      "EthanHein_1930sSynthAndUprightBass instruments: ['drum machine', 'fx/processed sound', 'fx/processed sound', 'double bass']\n",
      "EthanHein_GirlOnABridge instruments: ['auxiliary percussion', 'piano', 'synthesizer', 'distorted electric guitar']\n",
      "FacesOnFilm_WaitingForGa instruments: ['acoustic guitar', 'male singer', 'drum set', 'clean electric guitar', 'vibraphone', 'vocalists']\n",
      "FamilyBand_Again instruments: ['electric bass', 'vocalists', 'drum set', 'clean electric guitar', 'lap steel guitar', 'female singer']\n",
      "Handel_TornamiAVagheggiar instruments: ['female singer', 'piano']\n",
      "HeladoNegro_MitadDelMundo instruments: ['fx/processed sound', 'synthesizer', 'male singer', 'drum machine', 'synthesizer', 'male singer', 'synthesizer']\n",
      "HezekiahJones_BorrowedHeart instruments: ['acoustic guitar', 'vocalists', 'electric bass', 'vibraphone', 'cymbal', 'drum set', 'male singer', 'violin section']\n",
      "HopAlong_SisterCities instruments: ['acoustic guitar', 'electric bass', 'drum set', 'synthesizer', 'distorted electric guitar', 'female singer', 'distorted electric guitar']\n",
      "InvisibleFamiliars_DisturbingWildlife instruments: ['electric bass', 'claps', 'drum set', 'clean electric guitar', 'shaker', 'vocalists', 'male singer']\n",
      "JoelHelander_Definition instruments: ['violin', 'violin', 'viola', 'cello', 'string section', 'chimes', 'snare drum', 'flute', 'flute', 'french horn', 'bassoon', 'horn section']\n",
      "JoelHelander_ExcessiveResistancetoChange instruments: ['tack piano', 'double bass', 'drum set', 'clarinet', 'acoustic guitar', 'french horn', 'bassoon', 'horn section']\n",
      "JoelHelander_IntheAtticBedroom instruments: ['violin', 'violin', 'viola', 'cello', 'Main System']\n",
      "KarimDouaidy_Hopscotch instruments: ['electric bass', 'darbuka', 'acoustic guitar', 'oud', 'piano']\n",
      "KarimDouaidy_Yatora instruments: ['auxiliary percussion', 'acoustic guitar', 'oud', 'electric bass', 'piano']\n",
      "LizNelson_Coldwar instruments: ['acoustic guitar', 'female singer']\n",
      "LizNelson_ImComingHome instruments: ['female singer', 'female singer', 'female singer', 'female singer']\n",
      "LizNelson_Rainfall instruments: ['female singer', 'female singer', 'female singer', 'acoustic guitar', 'clean electric guitar']\n",
      "MatthewEntwistle_DontYouEver instruments: ['piano', 'violin section', 'male singer']\n",
      "MatthewEntwistle_FairerHopes instruments: ['bass drum', 'cello section', 'double bass', 'double bass', 'harp', 'piano', 'flute']\n",
      "MatthewEntwistle_ImpressionsOfSaturn instruments: ['cello', 'fx/processed sound', 'fx/processed sound', 'piano', 'viola', 'violin', 'violin']\n",
      "MatthewEntwistle_Lontano instruments: ['piano', 'female singer']\n",
      "MatthewEntwistle_TheArch instruments: ['fx/processed sound', 'synthesizer', 'flute section', 'fx/processed sound', 'bamboo flute', 'violin section', 'piano']\n",
      "MatthewEntwistle_TheFlaxenField instruments: ['cello', 'piano', 'violin', 'violin']\n",
      "Meaxic_TakeAStep instruments: ['electric bass', 'distorted electric guitar', 'male singer', 'drum set', 'vocalists', 'vocalists']\n",
      "Meaxic_YouListen instruments: ['male singer', 'acoustic guitar', 'electric bass', 'clean electric guitar', 'drum set']\n",
      "MichaelKropf_AllGoodThings instruments: ['piano', 'violin']\n",
      "Mozart_BesterJungling instruments: ['female singer', 'piano']\n",
      "Mozart_DiesBildnis instruments: ['male singer', 'piano']\n",
      "MusicDelta_80sRock instruments: ['drum set', 'electric bass', 'distorted electric guitar', 'male singer']\n",
      "MusicDelta_Beatles instruments: ['drum set', 'electric bass', 'clean electric guitar', 'clean electric guitar', 'acoustic guitar', 'clean electric guitar', 'male singer']\n",
      "MusicDelta_BebopJazz instruments: ['drum set', 'double bass', 'piano', 'tenor saxophone', 'trumpet']\n",
      "MusicDelta_Britpop instruments: ['drum set', 'electric bass', 'distorted electric guitar', 'clean electric guitar', 'clean electric guitar', 'clean electric guitar', 'female singer', 'female singer']\n",
      "MusicDelta_ChineseChaoZhou instruments: ['dizi', 'erhu', 'guzheng', 'yangqin']\n",
      "MusicDelta_ChineseDrama instruments: ['dizi', 'erhu', 'guzheng', 'yangqin', 'zhongruan']\n",
      "MusicDelta_ChineseHenan instruments: ['dizi', 'erhu', 'guzheng', 'liuqin', 'yangqin']\n",
      "MusicDelta_ChineseJiangNan instruments: ['dizi', 'erhu', 'guzheng', 'yangqin', 'zhongruan']\n",
      "MusicDelta_ChineseXinJing instruments: ['erhu', 'gu', 'liuqin', 'yangqin', 'zhongruan']\n",
      "MusicDelta_ChineseYaoZu instruments: ['dizi', 'erhu', 'guzheng', 'auxiliary percussion', 'yangqin']\n",
      "MusicDelta_CoolJazz instruments: ['double bass', 'drum set', 'piano', 'baritone saxophone', 'trumpet']\n",
      "MusicDelta_Country1 instruments: ['drum set', 'electric bass', 'acoustic guitar', 'acoustic guitar', 'male singer']\n",
      "MusicDelta_Disco instruments: ['drum set', 'electric bass', 'clean electric guitar', 'male singer']\n",
      "MusicDelta_FreeJazz instruments: ['drum set', 'double bass', 'bass clarinet']\n",
      "MusicDelta_FunkJazz instruments: ['drum set', 'electric bass', 'electric piano', 'alto saxophone']\n",
      "MusicDelta_FusionJazz instruments: ['drum set', 'electric bass', 'electric piano', 'synthesizer', 'soprano saxophone', 'trumpet']\n",
      "MusicDelta_Gospel instruments: ['drum set', 'electric bass', 'clean electric guitar', 'clean electric guitar', 'claps', 'female singer']\n",
      "MusicDelta_GriegTrolltog instruments: ['violin section', 'violin section', 'viola section', 'cello', 'double bass', 'flute section', 'piccolo', 'piccolo', 'oboe', 'clarinet section', 'clarinet section', 'brass section', 'brass section', 'brass section', 'trumpet section', 'tuba', 'timpani', 'timpani', 'cymbal']\n",
      "MusicDelta_Grunge instruments: ['drum set', 'electric bass', 'distorted electric guitar', 'distorted electric guitar', 'male singer']\n",
      "MusicDelta_LatinJazz instruments: ['electric bass', 'drum set', 'electric piano', 'flute']\n",
      "MusicDelta_ModalJazz instruments: ['drum set', 'double bass', 'piano', 'tenor saxophone', 'trumpet']\n",
      "MusicDelta_Pachelbel instruments: ['violin', 'cello', 'viola', 'violin']\n",
      "MusicDelta_Shadows instruments: ['electric bass', 'drum set', 'clean electric guitar', 'clean electric guitar']\n",
      "MusicDelta_SpeedMetal instruments: ['drum set', 'electric bass', 'distorted electric guitar']\n",
      "MusicDelta_SwingJazz instruments: ['double bass', 'drum set', 'piano', 'clarinet']\n",
      "NightPanther_Fire instruments: ['electric bass', 'vocalists', 'vocalists', 'drum machine', 'drum set', 'male singer', 'string section', 'synthesizer']\n",
      "Phoenix_BrokenPledgeChicagoReel instruments: ['acoustic guitar', 'flute', 'violin']\n",
      "Phoenix_ColliersDaughter instruments: ['acoustic guitar', 'flute', 'violin']\n",
      "Phoenix_ElzicsFarewell instruments: ['acoustic guitar', 'mandolin', 'violin']\n",
      "Phoenix_LarkOnTheStrandDrummondCastle instruments: ['acoustic guitar', 'flute', 'violin']\n",
      "Phoenix_ScotchMorris instruments: ['acoustic guitar', 'flute', 'violin']\n",
      "Phoenix_SeanCaughlinsTheScartaglen instruments: ['acoustic guitar', 'mandolin', 'violin', 'electric bass']\n",
      "PortStWillow_StayEven instruments: ['drum set', 'clean electric guitar', 'male singer', 'fx/processed sound']\n",
      "PurlingHiss_Lolita instruments: ['electric bass', 'drum set', 'distorted electric guitar', 'vocalists']\n",
      "Schubert_Erstarrung instruments: ['male singer', 'piano']\n",
      "Schumann_Mignon instruments: ['piano', 'female singer']\n",
      "SecretMountains_HighHorse instruments: ['electric bass', 'cymbal', 'drum set', 'clean electric guitar', 'fx/processed sound', 'piano', 'synthesizer', 'female singer']\n",
      "Snowmine_Curfews instruments: ['auxiliary percussion', 'electric bass', 'vibraphone', 'sampler', 'clean electric guitar', 'synthesizer', 'vocalists', 'tack piano']\n",
      "StevenClark_Bounty instruments: ['electric bass', 'drum set', 'synthesizer', 'male singer', 'male singer', 'piano', 'synthesizer']\n",
      "StrandOfOaks_Spacestation instruments: ['electric bass', 'vocalists', 'drum set', 'male singer', 'piano', 'synthesizer']\n",
      "SweetLights_YouLetMeDown instruments: ['electric bass', 'vocalists', 'drum set', 'synthesizer', 'male singer', 'piano', 'synthesizer', 'auxiliary percussion']\n",
      "TheDistricts_Vermont instruments: ['electric bass', 'drum set', 'male singer', 'clean electric guitar', 'clean electric guitar']\n",
      "TheScarletBrand_LesFleursDuMal instruments: ['drum set', 'electric bass', 'clean electric guitar', 'distorted electric guitar', 'male singer']\n",
      "TheSoSoGlos_Emergency instruments: ['electric bass', 'vocalists', 'drum set', 'distorted electric guitar', 'male singer', 'auxiliary percussion', 'synthesizer', 'acoustic guitar', 'vibraphone']\n",
      "Wolf_DieBekherte instruments: ['female singer', 'piano']\n"
     ]
    }
   ],
   "source": [
    "for k in sorted(mdb_data.keys()):\n",
    "    print(f\"{k} instruments: {mdb_data[k]['active_instruments']}\")"
   ]
  },
  {
   "cell_type": "code",
   "execution_count": 82,
   "id": "7c2245d8",
   "metadata": {},
   "outputs": [],
   "source": [
    "# print all of the active instrumnets\n",
    "instruments = []\n",
    "for k in mdb_data.keys():\n",
    "    instruments.extend(mdb_data[k]['active_instruments'])\n",
    "if VERBOSE:\n",
    "    pprint(Counter(instruments))"
   ]
  },
  {
   "cell_type": "code",
   "execution_count": 1,
   "id": "780b6485",
   "metadata": {
    "ExecuteTime": {
     "end_time": "2024-05-29T20:22:22.961163Z",
     "start_time": "2024-05-29T20:22:22.943871Z"
    }
   },
   "outputs": [],
   "source": [
    "# Heuristic here is to map these to the high-level midi 'classes'; that is: (program_num // 8)*8.\n",
    "medleydb_instruments_mapping = \\\n",
    "    {\n",
    "        'Main System': None,\n",
    "        'acoustic guitar': 'guitar',\n",
    "        'alto saxophone': 'saxophone',\n",
    "        'auxiliary percussion': 'drum',\n",
    "        'bamboo flute': 'flute',\n",
    "        'baritone saxophone': 'saxophone',\n",
    "        'bass clarinet': 'clarinet',\n",
    "        'bass drum': 'drum',\n",
    "        'bassoon': 'bassoon',\n",
    "        'brass section': None,\n",
    "        'cello': 'cello',\n",
    "        'cello section': 'cello',\n",
    "        'chimes': None,\n",
    "        'claps': None,\n",
    "        'clarinet': 'clarinet',\n",
    "        'clarinet section': 'clarinet',\n",
    "        'clean electric guitar': 'guitar',\n",
    "        'cymbal': 'drum',\n",
    "        'darbuka': None,\n",
    "        'distorted electric guitar': 'guitar',\n",
    "        'dizi': 'flute',\n",
    "        'double bass': 'bass',\n",
    "        'drum machine': 'drum',\n",
    "        'drum set': 'drum',\n",
    "        'electric bass': 'bass',\n",
    "        'electric piano': 'piano',\n",
    "        'erhu': None,\n",
    "        'female singer': 'vocals',\n",
    "        'flute': 'flute',\n",
    "        'flute section': 'flute',\n",
    "        'french horn': 'horn',\n",
    "        'fx/processed sound': None,\n",
    "        'gu': None,\n",
    "        'guzheng': None,\n",
    "        'harp': 'harp',\n",
    "        'horn section': 'horn',\n",
    "        'kick drum': 'drum',\n",
    "        'lap steel guitar': 'guitar',\n",
    "        'liuqin': None,\n",
    "        'male singer': 'vocals',\n",
    "        'mandolin': 'guitar',\n",
    "        'oboe': 'oboe',\n",
    "        'oud': None,\n",
    "        'piano': 'piano',\n",
    "        'piccolo': 'flute',\n",
    "        'sampler': None,\n",
    "        'shaker': None,\n",
    "        'snare drum': 'drum',\n",
    "        'soprano saxophone': 'saxophone',\n",
    "        'string section': None,\n",
    "        'synthesizer': 'synthesizer',\n",
    "        'tabla': None,\n",
    "        'tack piano': 'piano',\n",
    "        'tambourine': None,\n",
    "        'tenor saxophone': 'saxophone',\n",
    "        'timpani': None,\n",
    "        'trumpet': 'trumpet',\n",
    "        'trumpet section': 'trumpet',\n",
    "        'tuba': 'tuba',\n",
    "        'vibraphone': None,\n",
    "        'viola': 'viola',\n",
    "        'viola section': 'viola',\n",
    "        'violin': 'violin',\n",
    "        'violin section': 'violin',\n",
    "        'vocalists': 'vocals',\n",
    "        'yangqin': None,\n",
    "        'zhongruan': None,\n",
    "    }"
   ]
  },
  {
   "cell_type": "code",
   "outputs": [
    {
     "name": "stdout",
     "output_type": "stream",
     "text": [
      "19\n"
     ]
    }
   ],
   "source": [
    "print(len(set(medleydb_instruments_mapping.values())))"
   ],
   "metadata": {
    "collapsed": false,
    "ExecuteTime": {
     "end_time": "2024-05-29T20:22:25.690820Z",
     "start_time": "2024-05-29T20:22:25.649661Z"
    }
   },
   "id": "1b3400787dc9af54",
   "execution_count": 2
  },
  {
   "cell_type": "code",
   "execution_count": 84,
   "id": "355eaa5d",
   "metadata": {},
   "outputs": [],
   "source": [
    "mdb_active_instruments_df = pd.DataFrame(\n",
    "    [{'id': k, 'active_instruments': mdb_data[k]['active_instruments']} for k in mdb_data.keys()])"
   ]
  },
  {
   "cell_type": "code",
   "execution_count": 85,
   "id": "4540012c",
   "metadata": {},
   "outputs": [],
   "source": [
    "df = medleydb_inference.merge(mdb_active_instruments_df, on='id')"
   ]
  },
  {
   "cell_type": "code",
   "execution_count": 86,
   "id": "bd35c7e3",
   "metadata": {},
   "outputs": [],
   "source": [
    "df['baseline'] = 'drum set electric bass vocals piano guitar'"
   ]
  },
  {
   "cell_type": "code",
   "execution_count": 87,
   "id": "460bfded",
   "metadata": {
    "scrolled": true
   },
   "outputs": [],
   "source": [
    "def medleydb_instrument_in_response(inst: str, response: str) -> bool:\n",
    "    # inst_mapped is thr string we will actually check for.\n",
    "    inst_mapped = medleydb_instruments_mapping[inst]\n",
    "    if inst_mapped is None:\n",
    "        raise ValueError(f\"instrument {inst} is mapped to None.\")\n",
    "\n",
    "    # drop any sentences contining 'no'\n",
    "    sentences = [s for s in response.split(\".\") if \" no \" not in s]\n",
    "    dropped_sentences = [s for s in response.split(\".\") if \" no \" in s]\n",
    "    if dropped_sentences and VERBOSE:\n",
    "        print(f\"dropped the following sentences: {dropped_sentences}\")\n",
    "\n",
    "    for s in sentences:\n",
    "        if inst_mapped in s.lower():\n",
    "            if VERBOSE: print(f\"[CORRECT] found instrument {inst_mapped} in sentence {s}\")\n",
    "            return True\n",
    "    if VERBOSE: print(f\"[MISSED] missing instrument {inst_mapped} from response {response}\")\n",
    "    return False\n",
    "\n",
    "\n",
    "def compute_f1(df, model_completion_text_colname):\n",
    "    f1_scores = {}\n",
    "    for _, row in df.iterrows():\n",
    "        if VERBOSE: print(\"#\" * 50)\n",
    "        if VERBOSE: print(f\"processing track {row['id']} with active instruments {row['active_instruments']}\")\n",
    "        response_text = row[model_completion_text_colname]\n",
    "        if VERBOSE: print(f\"response text is {response_text}\")\n",
    "\n",
    "        tp = 0\n",
    "        fp = 0\n",
    "        fn = 0\n",
    "\n",
    "        active_instruments = [k for k, v in medleydb_instruments_mapping.items()\n",
    "                              if k in row['active_instruments']\n",
    "                              and v is not None]\n",
    "        # check for true positives\n",
    "        for active_inst in active_instruments:\n",
    "\n",
    "            if medleydb_instrument_in_response(active_inst, response_text):\n",
    "                # Case: instrument is in response, and it should be: true positive.\n",
    "                tp += 1\n",
    "            else:\n",
    "                # Case: instrument is not in response, but it should be: false negative.\n",
    "                fn += 1\n",
    "\n",
    "        inactive_instruments = [k for k, v in medleydb_instruments_mapping.items()\n",
    "                                if k not in row['active_instruments']\n",
    "                                and v is not None]\n",
    "        for inactive_inst in inactive_instruments:\n",
    "            if medleydb_instrument_in_response(inactive_inst, response_text):\n",
    "                fp += 1\n",
    "        try:\n",
    "            f1_scores[row['id']] = 2 * tp / (2 * tp + fp + fn)\n",
    "        except ZeroDivisionError:\n",
    "            print(f\"ZeroDivisionError for response_text {response_text} and active instruments {active_instruments}\")\n",
    "    f1_overall = pd.DataFrame.from_dict(f1_scores, orient='index', columns=['f1']).reset_index(names='id')['f1'].mean()\n",
    "    return f1_overall"
   ]
  },
  {
   "cell_type": "code",
   "execution_count": 88,
   "id": "5d8df514",
   "metadata": {},
   "outputs": [
    {
     "name": "stderr",
     "output_type": "stream",
     "text": [
      "100%|████████████████████████████████████████████████████████████████████████████████████████| 1000/1000 [00:54<00:00, 18.34it/s]"
     ]
    },
    {
     "name": "stdout",
     "output_type": "stream",
     "text": [
      "overall F1 score is 0.2526275900339256\n"
     ]
    },
    {
     "name": "stderr",
     "output_type": "stream",
     "text": [
      "\n"
     ]
    }
   ],
   "source": [
    "from tqdm import tqdm\n",
    "\n",
    "f1_scores = []\n",
    "for _ in tqdm(range(1000)):\n",
    "    tmp = df.sample(n=len(df), replace=True)\n",
    "    f1 = compute_f1(tmp, MODEL_COMPLETION_TEXT_COLNAME)\n",
    "    f1_scores.append(f1)\n",
    "print(f\"overall F1 score is {f1}\")"
   ]
  },
  {
   "cell_type": "code",
   "execution_count": 89,
   "id": "2f94ba07-bad7-48f2-bbd9-ac624a4488b4",
   "metadata": {},
   "outputs": [
    {
     "name": "stdout",
     "output_type": "stream",
     "text": [
      "ci width is 0.015987614055040233\n",
      "ci center is 0.25054615459870794\n"
     ]
    },
    {
     "data": {
      "text/plain": [
       "(array([  6.,  30.,  62., 138., 210., 218., 162., 102.,  47.,  25.]),\n",
       " array([0.22191206, 0.22720315, 0.23249424, 0.23778533, 0.24307642,\n",
       "        0.24836751, 0.2536586 , 0.25894969, 0.26424077, 0.26953186,\n",
       "        0.27482295]),\n",
       " <BarContainer object of 10 artists>)"
      ]
     },
     "execution_count": 89,
     "metadata": {},
     "output_type": "execute_result"
    },
    {
     "data": {
      "image/png": "[encoded data removed]",
      "text/plain": [
       "<Figure size 640x480 with 1 Axes>"
      ]
     },
     "metadata": {},
     "output_type": "display_data"
    }
   ],
   "source": [
    "f1s = f1_scores\n",
    "import numpy as np\n",
    "\n",
    "ci_lower, ci_upper = np.quantile(f1s, [0.05, 0.95])\n",
    "ci_width = (ci_upper - ci_lower) / 2\n",
    "print(f\"ci width is {ci_width}\")\n",
    "\n",
    "ci_center = (ci_upper + ci_lower) / 2\n",
    "print(f\"ci center is {ci_center}\")\n",
    "\n",
    "import matplotlib.pyplot as plt\n",
    "\n",
    "plt.hist(f1s)"
   ]
  },
  {
   "cell_type": "code",
   "execution_count": 90,
   "id": "d27fa797",
   "metadata": {},
   "outputs": [
    {
     "name": "stderr",
     "output_type": "stream",
     "text": [
      "100%|████████████████████████████████████████████████████████████████████████████████████████| 1000/1000 [00:52<00:00, 18.87it/s]"
     ]
    },
    {
     "name": "stdout",
     "output_type": "stream",
     "text": [
      "ci width is 0.016985299601008474\n",
      "ci center is 0.2523184543008168\n"
     ]
    },
    {
     "name": "stderr",
     "output_type": "stream",
     "text": [
      "\n"
     ]
    },
    {
     "data": {
      "text/plain": [
       "(array([  2.,   6.,  23.,  74., 274., 303., 200.,  92.,  23.,   3.]),\n",
       " array([0.20810889, 0.21617856, 0.22424822, 0.23231788, 0.24038754,\n",
       "        0.2484572 , 0.25652687, 0.26459653, 0.27266619, 0.28073585,\n",
       "        0.28880551]),\n",
       " <BarContainer object of 10 artists>)"
      ]
     },
     "execution_count": 90,
     "metadata": {},
     "output_type": "execute_result"
    },
    {
     "data": {
      "image/png": "[encoded data removed]",
      "text/plain": [
       "<Figure size 640x480 with 1 Axes>"
      ]
     },
     "metadata": {},
     "output_type": "display_data"
    }
   ],
   "source": [
    "# baseline\n",
    "from tqdm import tqdm\n",
    "\n",
    "f1_scores = []\n",
    "for _ in tqdm(range(1000)):\n",
    "    tmp = df.sample(n=len(df), replace=True)\n",
    "    f1 = compute_f1(tmp, 'baseline')\n",
    "    f1_scores.append(f1)\n",
    "\n",
    "f1s = f1_scores\n",
    "import numpy as np\n",
    "\n",
    "ci_lower, ci_upper = np.quantile(f1s, [0.05, 0.95])\n",
    "ci_width = (ci_upper - ci_lower) / 2\n",
    "print(f\"ci width is {ci_width}\")\n",
    "\n",
    "ci_center = (ci_upper + ci_lower) / 2\n",
    "print(f\"ci center is {ci_center}\")\n",
    "\n",
    "import matplotlib.pyplot as plt\n",
    "\n",
    "plt.hist(f1s)"
   ]
  }
 ],
 "metadata": {
  "kernelspec": {
   "display_name": "Python 3 (ipykernel)",
   "language": "python",
   "name": "python3"
  },
  "language_info": {
   "codemirror_mode": {
    "name": "ipython",
    "version": 3
   },
   "file_extension": ".py",
   "mimetype": "text/x-python",
   "name": "python",
   "nbconvert_exporter": "python",
   "pygments_lexer": "ipython3",
   "version": "3.10.13"
  }
 },
 "nbformat": 4,
 "nbformat_minor": 5
}
