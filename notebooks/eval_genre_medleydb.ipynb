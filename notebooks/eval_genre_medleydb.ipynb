{
 "cells": [
  {
   "cell_type": "code",
   "execution_count": 2,
   "id": "690feb5b",
   "metadata": {
    "ExecuteTime": {
     "end_time": "2024-05-29T19:57:01.899204Z",
     "start_time": "2024-05-29T19:57:01.218883Z"
    }
   },
   "outputs": [],
   "source": [
    "import os\n",
    "import re\n",
    "\n",
    "import matplotlib.pyplot as plt\n",
    "import numpy as np\n",
    "import pandas as pd\n",
    "from sklearn.metrics.pairwise import cosine_distances\n",
    "\n",
    "from m2t.evaluation.utils import strip_completion"
   ]
  },
  {
   "cell_type": "code",
   "execution_count": 3,
   "id": "3bd40521",
   "metadata": {
    "ExecuteTime": {
     "end_time": "2024-05-29T19:57:01.900490Z",
     "start_time": "2024-05-29T19:57:01.846406Z"
    }
   },
   "outputs": [],
   "source": [
    "from m2t.evaluation.utils import acc_at_k, confusion_matrix_from_distance_matrix"
   ]
  },
  {
   "cell_type": "code",
   "execution_count": 4,
   "id": "241e5dcc",
   "metadata": {
    "ExecuteTime": {
     "end_time": "2024-05-29T19:57:07.574890Z",
     "start_time": "2024-05-29T19:57:07.534664Z"
    }
   },
   "outputs": [],
   "source": [
    "os.chdir(\"..\")"
   ]
  },
  {
   "cell_type": "code",
   "execution_count": 7,
   "id": "80dc3e73",
   "metadata": {
    "ExecuteTime": {
     "end_time": "2024-05-29T19:57:22.212868Z",
     "start_time": "2024-05-29T19:57:22.081733Z"
    }
   },
   "outputs": [],
   "source": [
    "# LLark\n",
    "infer_results = pd.read_csv(\"inference-results/v5/infer_results_medleydb_genre_v5_100k.csv\")\n",
    "\n",
    "# ImageBind-LLM\n",
    "# infer_results = pd.read_csv(\"inference-results/imagebind-llm/imagebind-llm_medleydb_genre.csv\").rename(\n",
    "#     columns={\"imagebind_llm_caption\":\"model_completion_text\",\n",
    "#             \"imagebind_llm_caption_embedding\":\"model_completion_text_embedding\"})\n",
    "\n",
    "# LTU\n",
    "# infer_results = pd.read_csv(\"inference-results/ltu/listen_think_understand_medleydb_genre.csv\").rename(\n",
    "#     columns={\"ltu_caption\": \"model_completion_text\",\n",
    "#              \"ltu_caption_embedding\": \"model_completion_text_embedding\"})\n",
    "\n",
    "infer_results['example_id'] = infer_results['example_id'].apply(lambda x: os.path.basename(x).split(\"_MIX\")[0])"
   ]
  },
  {
   "cell_type": "code",
   "execution_count": 8,
   "id": "07b665a5",
   "metadata": {
    "ExecuteTime": {
     "end_time": "2024-05-29T19:57:23.834537Z",
     "start_time": "2024-05-29T19:57:23.788597Z"
    }
   },
   "outputs": [
    {
     "data": {
      "text/plain": "                      example_id               prompt_text  \\\n0           MusicDelta_BebopJazz  What genre is this song?   \n1       MusicDelta_GriegTrolltog  What genre is this song?   \n2             AmarLal_SpringDay1  What genre is this song?   \n3               MusicDelta_Disco  What genre is this song?   \n4           MusicDelta_ModalJazz  What genre is this song?   \n..                           ...                       ...   \n93           Schubert_Erstarrung  What genre is this song?   \n94  BrandonWebster_YesSirICanFly  What genre is this song?   \n95            PurlingHiss_Lolita  What genre is this song?   \n96   AlexanderRoss_VelvetCurtain  What genre is this song?   \n97       MusicDelta_ChineseHenan  What genre is this song?   \n\n                             model_completion_text  \\\n0             The genre of this song is jazz.\\n###   \n1   This song belongs to the classical genre.\\n###   \n2    This song falls under the genre of Folk.\\n###   \n3             The genre of this song is funk.\\n###   \n4             The genre of this song is jazz.\\n###   \n..                                             ...   \n93       The genre of this song is classical.\\n###   \n94             The genre of this song is pop.\\n###   \n95            The genre of this song is rock.\\n###   \n96             This song is in the pop genre.\\n###   \n97             The genre of this song is pop.\\n###   \n\n                      model_completion_text_embedding  \n0   [-0.013809381052851677, -0.018408285453915596,...  \n1   [0.012897172942757607, -0.005517087411135435, ...  \n2   [0.008347189985215664, -0.016116052865982056, ...  \n3   [0.013618100434541702, -0.01634937897324562, -...  \n4   [-0.013809381052851677, -0.018408285453915596,...  \n..                                                ...  \n93  [0.009412404149770737, 0.0027184076607227325, ...  \n94  [-0.0037041434552520514, -0.010868906043469906...  \n95  [0.00020601178403012455, -0.016521435230970383...  \n96  [-0.012440926395356655, -0.005167915485799313,...  \n97  [-0.0037041434552520514, -0.010868906043469906...  \n\n[98 rows x 4 columns]",
      "text/html": "<div>\n<style scoped>\n    .dataframe tbody tr th:only-of-type {\n        vertical-align: middle;\n    }\n\n    .dataframe tbody tr th {\n        vertical-align: top;\n    }\n\n    .dataframe thead th {\n        text-align: right;\n    }\n</style>\n<table border=\"1\" class=\"dataframe\">\n  <thead>\n    <tr style=\"text-align: right;\">\n      <th></th>\n      <th>example_id</th>\n      <th>prompt_text</th>\n      <th>model_completion_text</th>\n      <th>model_completion_text_embedding</th>\n    </tr>\n  </thead>\n  <tbody>\n    <tr>\n      <th>0</th>\n      <td>MusicDelta_BebopJazz</td>\n      <td>What genre is this song?</td>\n      <td>The genre of this song is jazz.\\n###</td>\n      <td>[-0.013809381052851677, -0.018408285453915596,...</td>\n    </tr>\n    <tr>\n      <th>1</th>\n      <td>MusicDelta_GriegTrolltog</td>\n      <td>What genre is this song?</td>\n      <td>This song belongs to the classical genre.\\n###</td>\n      <td>[0.012897172942757607, -0.005517087411135435, ...</td>\n    </tr>\n    <tr>\n      <th>2</th>\n      <td>AmarLal_SpringDay1</td>\n      <td>What genre is this song?</td>\n      <td>This song falls under the genre of Folk.\\n###</td>\n      <td>[0.008347189985215664, -0.016116052865982056, ...</td>\n    </tr>\n    <tr>\n      <th>3</th>\n      <td>MusicDelta_Disco</td>\n      <td>What genre is this song?</td>\n      <td>The genre of this song is funk.\\n###</td>\n      <td>[0.013618100434541702, -0.01634937897324562, -...</td>\n    </tr>\n    <tr>\n      <th>4</th>\n      <td>MusicDelta_ModalJazz</td>\n      <td>What genre is this song?</td>\n      <td>The genre of this song is jazz.\\n###</td>\n      <td>[-0.013809381052851677, -0.018408285453915596,...</td>\n    </tr>\n    <tr>\n      <th>...</th>\n      <td>...</td>\n      <td>...</td>\n      <td>...</td>\n      <td>...</td>\n    </tr>\n    <tr>\n      <th>93</th>\n      <td>Schubert_Erstarrung</td>\n      <td>What genre is this song?</td>\n      <td>The genre of this song is classical.\\n###</td>\n      <td>[0.009412404149770737, 0.0027184076607227325, ...</td>\n    </tr>\n    <tr>\n      <th>94</th>\n      <td>BrandonWebster_YesSirICanFly</td>\n      <td>What genre is this song?</td>\n      <td>The genre of this song is pop.\\n###</td>\n      <td>[-0.0037041434552520514, -0.010868906043469906...</td>\n    </tr>\n    <tr>\n      <th>95</th>\n      <td>PurlingHiss_Lolita</td>\n      <td>What genre is this song?</td>\n      <td>The genre of this song is rock.\\n###</td>\n      <td>[0.00020601178403012455, -0.016521435230970383...</td>\n    </tr>\n    <tr>\n      <th>96</th>\n      <td>AlexanderRoss_VelvetCurtain</td>\n      <td>What genre is this song?</td>\n      <td>This song is in the pop genre.\\n###</td>\n      <td>[-0.012440926395356655, -0.005167915485799313,...</td>\n    </tr>\n    <tr>\n      <th>97</th>\n      <td>MusicDelta_ChineseHenan</td>\n      <td>What genre is this song?</td>\n      <td>The genre of this song is pop.\\n###</td>\n      <td>[-0.0037041434552520514, -0.010868906043469906...</td>\n    </tr>\n  </tbody>\n</table>\n<p>98 rows × 4 columns</p>\n</div>"
     },
     "execution_count": 8,
     "metadata": {},
     "output_type": "execute_result"
    }
   ],
   "source": [
    "infer_results"
   ]
  },
  {
   "cell_type": "code",
   "execution_count": 11,
   "id": "f8764bef",
   "metadata": {
    "ExecuteTime": {
     "end_time": "2024-05-29T20:03:06.862742Z",
     "start_time": "2024-05-29T20:03:05.761939Z"
    }
   },
   "outputs": [
    {
     "name": "stdout",
     "output_type": "stream",
     "text": [
      "skipping file MusicDelta_Zeppelin_MIX-start0.000-end0.000.wav with zero duration.\n",
      "skipping file MusicDelta_InTheHalloftheMountainKing_MIX-start0.000-end0.000.wav with zero duration.\n",
      "skipping file MusicDelta_Hendrix_MIX-start0.000-end0.000.wav with zero duration.\n",
      "skipping file MusicDelta_Beethoven_MIX-start0.000-end0.000.wav with zero duration.\n",
      "skipping file MusicDelta_Punk_MIX-start0.000-end0.000.wav with zero duration.\n",
      "skipping file MusicDelta_Rock_MIX-start0.000-end0.000.wav with zero duration.\n",
      "skipping file MusicDelta_Reggae_MIX-start0.000-end0.000.wav with zero duration.\n",
      "skipping file MusicDelta_Vivaldi_MIX-start0.000-end0.000.wav with zero duration.\n",
      "skipping file MusicDelta_Country2_MIX-start0.000-end0.000.wav with zero duration.\n",
      "skipping file MusicDelta_Rockabilly_MIX-start0.000-end0.000.wav with zero duration.\n"
     ]
    }
   ],
   "source": [
    "# load medleydb results\n",
    "import os\n",
    "import yaml\n",
    "from collections import defaultdict\n",
    "from m2t.dataset_utils import fetch_audio_start_end\n",
    "\n",
    "\n",
    "def load_medleydb_genres(medleydb_dir=\"datasets/medleydb\"):\n",
    "    audio_files = os.listdir(os.path.join(medleydb_dir, \"wav-crop\"))\n",
    "\n",
    "    mdb_data = defaultdict(dict)\n",
    "    for audio_file in audio_files:\n",
    "        start, end = fetch_audio_start_end(audio_file)\n",
    "        if start == 0. and end == 0.:\n",
    "            print(f\"skipping file {audio_file} with zero duration.\")\n",
    "            continue\n",
    "        mdb_id = audio_file.split(\"_MIX-start\")[0]\n",
    "        mdb_data[mdb_id][\"audio_file\"] = audio_file\n",
    "        mdb_data[mdb_id][\"start\"] = start\n",
    "        mdb_data[mdb_id][\"end\"] = end\n",
    "        meta_fp = os.path.join(medleydb_dir, \"metadata\", mdb_id + \"_METADATA.yaml\")\n",
    "        with open(meta_fp, \"r\") as f:\n",
    "            metadata = yaml.safe_load(f)\n",
    "        mdb_data[mdb_id][\"metadata\"] = metadata\n",
    "\n",
    "    return mdb_data\n",
    "\n",
    "\n",
    "mdb_data = load_medleydb_genres()\n",
    "\n",
    "genres = pd.DataFrame([(k, v[\"metadata\"][\"genre\"]) for k, v in mdb_data.items()],\n",
    "                      columns=[\"example_id\", \"genre\"])"
   ]
  },
  {
   "cell_type": "code",
   "execution_count": 12,
   "id": "6f4f6a4f",
   "metadata": {
    "scrolled": false,
    "ExecuteTime": {
     "end_time": "2024-05-29T20:03:13.088510Z",
     "start_time": "2024-05-29T20:03:13.077582Z"
    }
   },
   "outputs": [],
   "source": [
    "def _map_fn(x):\n",
    "    x = strip_completion(x)\n",
    "\n",
    "    x = re.sub('\\W+', ' ', x)  # remove multiple consecutive spaces\n",
    "    x = x.replace('Hip Hop', 'hiphop')\n",
    "    x = x.replace('hip hop', 'hiphop')\n",
    "    return x.strip()\n",
    "\n",
    "\n",
    "caption_colname = 'model_completion_text'\n",
    "\n",
    "infer_results[caption_colname] = infer_results[caption_colname].map(_map_fn)"
   ]
  },
  {
   "cell_type": "code",
   "execution_count": 13,
   "id": "bff0bfd7",
   "metadata": {
    "ExecuteTime": {
     "end_time": "2024-05-29T20:03:13.260345Z",
     "start_time": "2024-05-29T20:03:13.227813Z"
    }
   },
   "outputs": [],
   "source": [
    "infer_results = infer_results.merge(genres, on=[\"example_id\"])"
   ]
  },
  {
   "cell_type": "code",
   "execution_count": 14,
   "id": "67297137",
   "metadata": {
    "ExecuteTime": {
     "end_time": "2024-05-29T20:03:14.040547Z",
     "start_time": "2024-05-29T20:03:14.015078Z"
    }
   },
   "outputs": [
    {
     "data": {
      "text/plain": "                       model_completion_text              genre\n0             The genre of this song is jazz               Jazz\n1   This song belongs to the classical genre          Classical\n2    This song falls under the genre of Folk  Singer/Songwriter\n3             The genre of this song is funk                Pop\n4             The genre of this song is jazz               Jazz\n..                                       ...                ...\n93       The genre of this song is classical          Classical\n94             The genre of this song is pop    Musical Theatre\n95            The genre of this song is rock               Rock\n96             This song is in the pop genre  Singer/Songwriter\n97             The genre of this song is pop         World/Folk\n\n[98 rows x 2 columns]",
      "text/html": "<div>\n<style scoped>\n    .dataframe tbody tr th:only-of-type {\n        vertical-align: middle;\n    }\n\n    .dataframe tbody tr th {\n        vertical-align: top;\n    }\n\n    .dataframe thead th {\n        text-align: right;\n    }\n</style>\n<table border=\"1\" class=\"dataframe\">\n  <thead>\n    <tr style=\"text-align: right;\">\n      <th></th>\n      <th>model_completion_text</th>\n      <th>genre</th>\n    </tr>\n  </thead>\n  <tbody>\n    <tr>\n      <th>0</th>\n      <td>The genre of this song is jazz</td>\n      <td>Jazz</td>\n    </tr>\n    <tr>\n      <th>1</th>\n      <td>This song belongs to the classical genre</td>\n      <td>Classical</td>\n    </tr>\n    <tr>\n      <th>2</th>\n      <td>This song falls under the genre of Folk</td>\n      <td>Singer/Songwriter</td>\n    </tr>\n    <tr>\n      <th>3</th>\n      <td>The genre of this song is funk</td>\n      <td>Pop</td>\n    </tr>\n    <tr>\n      <th>4</th>\n      <td>The genre of this song is jazz</td>\n      <td>Jazz</td>\n    </tr>\n    <tr>\n      <th>...</th>\n      <td>...</td>\n      <td>...</td>\n    </tr>\n    <tr>\n      <th>93</th>\n      <td>The genre of this song is classical</td>\n      <td>Classical</td>\n    </tr>\n    <tr>\n      <th>94</th>\n      <td>The genre of this song is pop</td>\n      <td>Musical Theatre</td>\n    </tr>\n    <tr>\n      <th>95</th>\n      <td>The genre of this song is rock</td>\n      <td>Rock</td>\n    </tr>\n    <tr>\n      <th>96</th>\n      <td>This song is in the pop genre</td>\n      <td>Singer/Songwriter</td>\n    </tr>\n    <tr>\n      <th>97</th>\n      <td>The genre of this song is pop</td>\n      <td>World/Folk</td>\n    </tr>\n  </tbody>\n</table>\n<p>98 rows × 2 columns</p>\n</div>"
     },
     "execution_count": 14,
     "metadata": {},
     "output_type": "execute_result"
    }
   ],
   "source": [
    "infer_results[[\"model_completion_text\", \"genre\"]]"
   ]
  },
  {
   "cell_type": "code",
   "execution_count": 15,
   "id": "43acce13",
   "metadata": {
    "ExecuteTime": {
     "end_time": "2024-05-29T20:03:22.417444Z",
     "start_time": "2024-05-29T20:03:22.398496Z"
    }
   },
   "outputs": [
    {
     "name": "stdout",
     "output_type": "stream",
     "text": [
      "0.4387755102040816\n"
     ]
    }
   ],
   "source": [
    "GENRE_COLNAME = 'genre'\n",
    "true_genre_in_completion_text = np.mean(\n",
    "    [x[GENRE_COLNAME].lower() in x[caption_colname].replace('-', '').lower() for _, x in infer_results.iterrows()])\n",
    "print(true_genre_in_completion_text)"
   ]
  },
  {
   "cell_type": "code",
   "execution_count": 16,
   "id": "d717a40d",
   "metadata": {
    "ExecuteTime": {
     "end_time": "2024-05-29T20:03:23.484437Z",
     "start_time": "2024-05-29T20:03:23.442716Z"
    }
   },
   "outputs": [
    {
     "data": {
      "text/plain": "               genre                                    genre_embedding\n0  Singer/Songwriter  [-0.012259929440915585, -0.012756437063217163,...\n1                Pop  [0.00818187277764082, -0.02048569917678833, -0...\n2         World/Folk  [0.0006129959365352988, 0.0031966841779649258,...\n3          Classical  [-0.013702787458896637, 0.00244644726626575, 0...\n4               Rock  [0.012388329021632671, -0.021920479834079742, ...",
      "text/html": "<div>\n<style scoped>\n    .dataframe tbody tr th:only-of-type {\n        vertical-align: middle;\n    }\n\n    .dataframe tbody tr th {\n        vertical-align: top;\n    }\n\n    .dataframe thead th {\n        text-align: right;\n    }\n</style>\n<table border=\"1\" class=\"dataframe\">\n  <thead>\n    <tr style=\"text-align: right;\">\n      <th></th>\n      <th>genre</th>\n      <th>genre_embedding</th>\n    </tr>\n  </thead>\n  <tbody>\n    <tr>\n      <th>0</th>\n      <td>Singer/Songwriter</td>\n      <td>[-0.012259929440915585, -0.012756437063217163,...</td>\n    </tr>\n    <tr>\n      <th>1</th>\n      <td>Pop</td>\n      <td>[0.00818187277764082, -0.02048569917678833, -0...</td>\n    </tr>\n    <tr>\n      <th>2</th>\n      <td>World/Folk</td>\n      <td>[0.0006129959365352988, 0.0031966841779649258,...</td>\n    </tr>\n    <tr>\n      <th>3</th>\n      <td>Classical</td>\n      <td>[-0.013702787458896637, 0.00244644726626575, 0...</td>\n    </tr>\n    <tr>\n      <th>4</th>\n      <td>Rock</td>\n      <td>[0.012388329021632671, -0.021920479834079742, ...</td>\n    </tr>\n  </tbody>\n</table>\n</div>"
     },
     "execution_count": 16,
     "metadata": {},
     "output_type": "execute_result"
    }
   ],
   "source": [
    "genre_embeds = pd.read_csv(\"inference-results/genres_medleydb.csv\")\n",
    "\n",
    "genre_embeds.head()"
   ]
  },
  {
   "cell_type": "code",
   "execution_count": 17,
   "id": "45a9184d",
   "metadata": {
    "ExecuteTime": {
     "end_time": "2024-05-29T20:03:25.361639Z",
     "start_time": "2024-05-29T20:03:25.340633Z"
    }
   },
   "outputs": [
    {
     "data": {
      "text/plain": "genre\nSinger/Songwriter    0.125\nPop                  0.125\nWorld/Folk           0.125\nClassical            0.125\nRock                 0.125\nElectronic/Fusion    0.125\nJazz                 0.125\nMusical Theatre      0.125\nName: count, dtype: float64"
     },
     "execution_count": 17,
     "metadata": {},
     "output_type": "execute_result"
    }
   ],
   "source": [
    "genre_embeds['genre'].value_counts() / len(genre_embeds)"
   ]
  },
  {
   "cell_type": "code",
   "execution_count": 18,
   "id": "e389bd28",
   "metadata": {
    "ExecuteTime": {
     "end_time": "2024-05-29T20:03:27.151023Z",
     "start_time": "2024-05-29T20:03:27.136356Z"
    }
   },
   "outputs": [
    {
     "data": {
      "text/plain": "{0: 'Singer/Songwriter',\n 1: 'Pop',\n 2: 'World/Folk',\n 3: 'Classical',\n 4: 'Rock',\n 5: 'Electronic/Fusion',\n 6: 'Jazz',\n 7: 'Musical Theatre'}"
     },
     "execution_count": 18,
     "metadata": {},
     "output_type": "execute_result"
    }
   ],
   "source": [
    "genre_idxs = genre_embeds[GENRE_COLNAME].to_dict()\n",
    "genre_idxs"
   ]
  },
  {
   "cell_type": "code",
   "execution_count": 19,
   "id": "9d8c5c2e",
   "metadata": {
    "ExecuteTime": {
     "end_time": "2024-05-29T20:03:30.186006Z",
     "start_time": "2024-05-29T20:03:30.073055Z"
    }
   },
   "outputs": [
    {
     "data": {
      "text/plain": "genre_numeric       0   1   2   3   4  5   6  7\ngenre                                          \nClassical           0   0   0  18   0  0   0  0\nElectronic/Fusion   0   0   0   0   0  2   0  0\nJazz                0   0   0   0   0  0  11  0\nMusical Theatre     0   0   0   0   0  0   0  3\nPop                 0  10   0   0   0  0   0  0\nRock                0   0   0   0  14  0   0  0\nSinger/Songwriter  22   0   0   0   0  0   0  0\nWorld/Folk          0   0  18   0   0  0   0  0",
      "text/html": "<div>\n<style scoped>\n    .dataframe tbody tr th:only-of-type {\n        vertical-align: middle;\n    }\n\n    .dataframe tbody tr th {\n        vertical-align: top;\n    }\n\n    .dataframe thead th {\n        text-align: right;\n    }\n</style>\n<table border=\"1\" class=\"dataframe\">\n  <thead>\n    <tr style=\"text-align: right;\">\n      <th>genre_numeric</th>\n      <th>0</th>\n      <th>1</th>\n      <th>2</th>\n      <th>3</th>\n      <th>4</th>\n      <th>5</th>\n      <th>6</th>\n      <th>7</th>\n    </tr>\n    <tr>\n      <th>genre</th>\n      <th></th>\n      <th></th>\n      <th></th>\n      <th></th>\n      <th></th>\n      <th></th>\n      <th></th>\n      <th></th>\n    </tr>\n  </thead>\n  <tbody>\n    <tr>\n      <th>Classical</th>\n      <td>0</td>\n      <td>0</td>\n      <td>0</td>\n      <td>18</td>\n      <td>0</td>\n      <td>0</td>\n      <td>0</td>\n      <td>0</td>\n    </tr>\n    <tr>\n      <th>Electronic/Fusion</th>\n      <td>0</td>\n      <td>0</td>\n      <td>0</td>\n      <td>0</td>\n      <td>0</td>\n      <td>2</td>\n      <td>0</td>\n      <td>0</td>\n    </tr>\n    <tr>\n      <th>Jazz</th>\n      <td>0</td>\n      <td>0</td>\n      <td>0</td>\n      <td>0</td>\n      <td>0</td>\n      <td>0</td>\n      <td>11</td>\n      <td>0</td>\n    </tr>\n    <tr>\n      <th>Musical Theatre</th>\n      <td>0</td>\n      <td>0</td>\n      <td>0</td>\n      <td>0</td>\n      <td>0</td>\n      <td>0</td>\n      <td>0</td>\n      <td>3</td>\n    </tr>\n    <tr>\n      <th>Pop</th>\n      <td>0</td>\n      <td>10</td>\n      <td>0</td>\n      <td>0</td>\n      <td>0</td>\n      <td>0</td>\n      <td>0</td>\n      <td>0</td>\n    </tr>\n    <tr>\n      <th>Rock</th>\n      <td>0</td>\n      <td>0</td>\n      <td>0</td>\n      <td>0</td>\n      <td>14</td>\n      <td>0</td>\n      <td>0</td>\n      <td>0</td>\n    </tr>\n    <tr>\n      <th>Singer/Songwriter</th>\n      <td>22</td>\n      <td>0</td>\n      <td>0</td>\n      <td>0</td>\n      <td>0</td>\n      <td>0</td>\n      <td>0</td>\n      <td>0</td>\n    </tr>\n    <tr>\n      <th>World/Folk</th>\n      <td>0</td>\n      <td>0</td>\n      <td>18</td>\n      <td>0</td>\n      <td>0</td>\n      <td>0</td>\n      <td>0</td>\n      <td>0</td>\n    </tr>\n  </tbody>\n</table>\n</div>"
     },
     "execution_count": 19,
     "metadata": {},
     "output_type": "execute_result"
    }
   ],
   "source": [
    "# Create a numeric label column\n",
    "infer_results['genre_numeric'] = infer_results[GENRE_COLNAME].map({v: k for k, v in genre_idxs.items()})\n",
    "\n",
    "# Sanity check the labels\n",
    "pd.crosstab(infer_results[GENRE_COLNAME], infer_results['genre_numeric'])"
   ]
  },
  {
   "cell_type": "markdown",
   "id": "f8286cb1",
   "metadata": {},
   "source": [
    "# OpenAI Embeddings"
   ]
  },
  {
   "cell_type": "code",
   "execution_count": 20,
   "id": "713f1858",
   "metadata": {
    "ExecuteTime": {
     "end_time": "2024-05-29T20:03:34.971057Z",
     "start_time": "2024-05-29T20:03:34.934161Z"
    }
   },
   "outputs": [],
   "source": [
    "import json\n",
    "\n",
    "dist = cosine_distances(np.row_stack(infer_results[caption_colname + '_embedding'].apply(json.loads).tolist()),\n",
    "                        np.row_stack(genre_embeds['genre_embedding'].apply(json.loads).tolist()))"
   ]
  },
  {
   "cell_type": "code",
   "execution_count": 21,
   "id": "77cf991a",
   "metadata": {
    "ExecuteTime": {
     "end_time": "2024-05-29T20:03:37.452386Z",
     "start_time": "2024-05-29T20:03:37.421391Z"
    }
   },
   "outputs": [
    {
     "data": {
      "text/plain": "(98, 8)"
     },
     "execution_count": 21,
     "metadata": {},
     "output_type": "execute_result"
    }
   ],
   "source": [
    "dist.shape"
   ]
  },
  {
   "cell_type": "code",
   "outputs": [],
   "source": [
    "import scipy\n",
    "import math\n",
    "\n",
    "\n",
    "def clopper_pearson(acc, n, alpha=0.05):\n",
    "    \"\"\"Estimate the confidence interval for a sampled Bernoulli random\n",
    "    variable.\n",
    "    `x` is the number of successes and `n` is the number trials (x <=\n",
    "    n). `alpha` is the confidence level (i.e., the true probability is\n",
    "    inside the confidence interval with probability 1-alpha). The\n",
    "    function returns a `(low, high)` pair of numbers indicating the\n",
    "    interval on the probability.\n",
    "    \"\"\"\n",
    "    x = int(acc * n)\n",
    "    b = scipy.stats.beta.ppf\n",
    "    lo = b(alpha / 2, x, n - x + 1)\n",
    "    hi = b(1 - alpha / 2, x + 1, n - x)\n",
    "    return 0.0 if math.isnan(lo) else lo, 1.0 if math.isnan(hi) else hi"
   ],
   "metadata": {
    "collapsed": false,
    "ExecuteTime": {
     "end_time": "2024-05-29T20:03:37.820987Z",
     "start_time": "2024-05-29T20:03:37.796938Z"
    }
   },
   "id": "293ecbd74f253e23",
   "execution_count": 22
  },
  {
   "cell_type": "code",
   "execution_count": 29,
   "id": "c337c092",
   "metadata": {
    "ExecuteTime": {
     "end_time": "2024-05-29T20:09:33.474905Z",
     "start_time": "2024-05-29T20:09:32.569341Z"
    }
   },
   "outputs": [],
   "source": [
    "import matplotlib\n",
    "\n",
    "matplotlib.rcParams.update(matplotlib.rcParamsDefault)\n",
    "\n",
    "plot_data = []\n",
    "for k in range(1, 9):\n",
    "    acc = acc_at_k(dist, k=k, labels=infer_results['genre_numeric'])\n",
    "    plot_data.append((k, acc))\n",
    "\n",
    "genre_results_at_k = pd.DataFrame(plot_data, columns=[\"k\", \"acc@k\"])\n",
    "genre_results_at_k[\"ci_upper\"] = genre_results_at_k[\"acc@k\"].apply(lambda x: clopper_pearson(x, 1000)[1])\n",
    "genre_results_at_k[\"ci_lower\"] = genre_results_at_k[\"acc@k\"].apply(lambda x: clopper_pearson(x, 1000)[0])\n",
    "\n",
    "fig, ax = plt.subplots(1, 1, figsize=(5, 5))\n",
    "ax.plot(genre_results_at_k[\"k\"],\n",
    "        genre_results_at_k[\"acc@k\"],\n",
    "        \"-o\",\n",
    "        color=\"blue\",\n",
    "        label=\"LLark Acc@k\")\n",
    "ax.fill_between(genre_results_at_k[\"k\"],\n",
    "                genre_results_at_k[\"ci_upper\"],\n",
    "                genre_results_at_k[\"ci_lower\"],\n",
    "                alpha=0.5,\n",
    "                color=\"blue\",\n",
    "                )\n",
    "\n",
    "ax.plot(genre_results_at_k[\"k\"],\n",
    "        genre_results_at_k[\"k\"] / 8,\n",
    "        \"-o\",\n",
    "        color=\"orange\",\n",
    "        label=\"Random Baseline\")\n",
    "ax.scatter(x=1, y=true_genre_in_completion_text, s=128, marker=\"*\", color=\"blue\",\n",
    "           label=\"True genre text in LLark output\")\n",
    "ax.legend()\n",
    "ax.set_title(\"Genre Classification Acc@K, MedleyDB Dataset\")\n",
    "ax.set_xlabel(\"k\")\n",
    "# ax.set_facecolor(\"white\")\n",
    "ax.grid()\n",
    "\n",
    "plt.savefig(\"notebooks/acc-at-k-medleydb.pdf\", bbox_inches=\"tight\")"
   ]
  },
  {
   "cell_type": "code",
   "execution_count": 30,
   "id": "026b923a",
   "metadata": {
    "ExecuteTime": {
     "end_time": "2024-05-29T20:12:31.747927Z",
     "start_time": "2024-05-29T20:12:31.727481Z"
    }
   },
   "outputs": [
    {
     "data": {
      "text/plain": "[(1, 0.5612244897959183),\n (2, 0.7959183673469388),\n (3, 0.826530612244898),\n (4, 0.8979591836734694),\n (5, 0.9489795918367347),\n (6, 0.9693877551020408),\n (7, 1.0),\n (8, 1.0)]"
     },
     "execution_count": 30,
     "metadata": {},
     "output_type": "execute_result"
    }
   ],
   "source": [
    "plot_data"
   ]
  },
  {
   "cell_type": "code",
   "execution_count": 179,
   "id": "70ecf070",
   "metadata": {},
   "outputs": [
    {
     "ename": "KeyError",
     "evalue": "'gtzan_genre_numeric'",
     "output_type": "error",
     "traceback": [
      "\u001B[0;31m---------------------------------------------------------------------------\u001B[0m",
      "\u001B[0;31mKeyError\u001B[0m                                  Traceback (most recent call last)",
      "File \u001B[0;32m~/miniconda3/envs/m2t/lib/python3.10/site-packages/pandas/core/indexes/base.py:3802\u001B[0m, in \u001B[0;36mIndex.get_loc\u001B[0;34m(self, key, method, tolerance)\u001B[0m\n\u001B[1;32m   3801\u001B[0m \u001B[38;5;28;01mtry\u001B[39;00m:\n\u001B[0;32m-> 3802\u001B[0m     \u001B[38;5;28;01mreturn\u001B[39;00m \u001B[38;5;28;43mself\u001B[39;49m\u001B[38;5;241;43m.\u001B[39;49m\u001B[43m_engine\u001B[49m\u001B[38;5;241;43m.\u001B[39;49m\u001B[43mget_loc\u001B[49m\u001B[43m(\u001B[49m\u001B[43mcasted_key\u001B[49m\u001B[43m)\u001B[49m\n\u001B[1;32m   3803\u001B[0m \u001B[38;5;28;01mexcept\u001B[39;00m \u001B[38;5;167;01mKeyError\u001B[39;00m \u001B[38;5;28;01mas\u001B[39;00m err:\n",
      "File \u001B[0;32m~/miniconda3/envs/m2t/lib/python3.10/site-packages/pandas/_libs/index.pyx:138\u001B[0m, in \u001B[0;36mpandas._libs.index.IndexEngine.get_loc\u001B[0;34m()\u001B[0m\n",
      "File \u001B[0;32m~/miniconda3/envs/m2t/lib/python3.10/site-packages/pandas/_libs/index.pyx:165\u001B[0m, in \u001B[0;36mpandas._libs.index.IndexEngine.get_loc\u001B[0;34m()\u001B[0m\n",
      "File \u001B[0;32mpandas/_libs/hashtable_class_helper.pxi:5745\u001B[0m, in \u001B[0;36mpandas._libs.hashtable.PyObjectHashTable.get_item\u001B[0;34m()\u001B[0m\n",
      "File \u001B[0;32mpandas/_libs/hashtable_class_helper.pxi:5753\u001B[0m, in \u001B[0;36mpandas._libs.hashtable.PyObjectHashTable.get_item\u001B[0;34m()\u001B[0m\n",
      "\u001B[0;31mKeyError\u001B[0m: 'gtzan_genre_numeric'",
      "\nThe above exception was the direct cause of the following exception:\n",
      "\u001B[0;31mKeyError\u001B[0m                                  Traceback (most recent call last)",
      "Cell \u001B[0;32mIn[179], line 1\u001B[0m\n\u001B[0;32m----> 1\u001B[0m cm \u001B[38;5;241m=\u001B[39m confusion_matrix_from_distance_matrix(dist, labels\u001B[38;5;241m=\u001B[39m\u001B[43minfer_results\u001B[49m\u001B[43m[\u001B[49m\u001B[38;5;124;43m'\u001B[39;49m\u001B[38;5;124;43mgtzan_genre_numeric\u001B[39;49m\u001B[38;5;124;43m'\u001B[39;49m\u001B[43m]\u001B[49m)\n\u001B[1;32m      3\u001B[0m cm \u001B[38;5;241m=\u001B[39m pd\u001B[38;5;241m.\u001B[39mDataFrame(cm, index\u001B[38;5;241m=\u001B[39mgenre_embeds[\u001B[38;5;124m'\u001B[39m\u001B[38;5;124mgenre\u001B[39m\u001B[38;5;124m'\u001B[39m], columns\u001B[38;5;241m=\u001B[39mgenre_embeds[\u001B[38;5;124m'\u001B[39m\u001B[38;5;124mgenre\u001B[39m\u001B[38;5;124m'\u001B[39m])\n\u001B[1;32m      5\u001B[0m \u001B[38;5;28;01mimport\u001B[39;00m \u001B[38;5;21;01mseaborn\u001B[39;00m \u001B[38;5;28;01mas\u001B[39;00m \u001B[38;5;21;01msns\u001B[39;00m\n",
      "File \u001B[0;32m~/miniconda3/envs/m2t/lib/python3.10/site-packages/pandas/core/frame.py:3807\u001B[0m, in \u001B[0;36mDataFrame.__getitem__\u001B[0;34m(self, key)\u001B[0m\n\u001B[1;32m   3805\u001B[0m \u001B[38;5;28;01mif\u001B[39;00m \u001B[38;5;28mself\u001B[39m\u001B[38;5;241m.\u001B[39mcolumns\u001B[38;5;241m.\u001B[39mnlevels \u001B[38;5;241m>\u001B[39m \u001B[38;5;241m1\u001B[39m:\n\u001B[1;32m   3806\u001B[0m     \u001B[38;5;28;01mreturn\u001B[39;00m \u001B[38;5;28mself\u001B[39m\u001B[38;5;241m.\u001B[39m_getitem_multilevel(key)\n\u001B[0;32m-> 3807\u001B[0m indexer \u001B[38;5;241m=\u001B[39m \u001B[38;5;28;43mself\u001B[39;49m\u001B[38;5;241;43m.\u001B[39;49m\u001B[43mcolumns\u001B[49m\u001B[38;5;241;43m.\u001B[39;49m\u001B[43mget_loc\u001B[49m\u001B[43m(\u001B[49m\u001B[43mkey\u001B[49m\u001B[43m)\u001B[49m\n\u001B[1;32m   3808\u001B[0m \u001B[38;5;28;01mif\u001B[39;00m is_integer(indexer):\n\u001B[1;32m   3809\u001B[0m     indexer \u001B[38;5;241m=\u001B[39m [indexer]\n",
      "File \u001B[0;32m~/miniconda3/envs/m2t/lib/python3.10/site-packages/pandas/core/indexes/base.py:3804\u001B[0m, in \u001B[0;36mIndex.get_loc\u001B[0;34m(self, key, method, tolerance)\u001B[0m\n\u001B[1;32m   3802\u001B[0m     \u001B[38;5;28;01mreturn\u001B[39;00m \u001B[38;5;28mself\u001B[39m\u001B[38;5;241m.\u001B[39m_engine\u001B[38;5;241m.\u001B[39mget_loc(casted_key)\n\u001B[1;32m   3803\u001B[0m \u001B[38;5;28;01mexcept\u001B[39;00m \u001B[38;5;167;01mKeyError\u001B[39;00m \u001B[38;5;28;01mas\u001B[39;00m err:\n\u001B[0;32m-> 3804\u001B[0m     \u001B[38;5;28;01mraise\u001B[39;00m \u001B[38;5;167;01mKeyError\u001B[39;00m(key) \u001B[38;5;28;01mfrom\u001B[39;00m \u001B[38;5;21;01merr\u001B[39;00m\n\u001B[1;32m   3805\u001B[0m \u001B[38;5;28;01mexcept\u001B[39;00m \u001B[38;5;167;01mTypeError\u001B[39;00m:\n\u001B[1;32m   3806\u001B[0m     \u001B[38;5;66;03m# If we have a listlike key, _check_indexing_error will raise\u001B[39;00m\n\u001B[1;32m   3807\u001B[0m     \u001B[38;5;66;03m#  InvalidIndexError. Otherwise we fall through and re-raise\u001B[39;00m\n\u001B[1;32m   3808\u001B[0m     \u001B[38;5;66;03m#  the TypeError.\u001B[39;00m\n\u001B[1;32m   3809\u001B[0m     \u001B[38;5;28mself\u001B[39m\u001B[38;5;241m.\u001B[39m_check_indexing_error(key)\n",
      "\u001B[0;31mKeyError\u001B[0m: 'gtzan_genre_numeric'"
     ]
    }
   ],
   "source": [
    "cm = confusion_matrix_from_distance_matrix(dist, labels=infer_results['gtzan_genre_numeric'])\n",
    "\n",
    "cm = pd.DataFrame(cm, index=genre_embeds['genre'], columns=genre_embeds['genre'])\n",
    "\n",
    "import seaborn as sns\n",
    "\n",
    "fig, ax = plt.subplots(nrows=1, ncols=1, figsize=(8, 7))\n",
    "\n",
    "sns.heatmap(cm, annot=True, ax=ax)\n",
    "ax.set(xlabel='Predicted Genre', ylabel='GTZAN Labeled Genre',\n",
    "       title=\"Confusion MAtrix\\nZero-Shot GTZAN Genre Prediction\")"
   ]
  },
  {
   "cell_type": "code",
   "execution_count": null,
   "id": "1c5f73f0",
   "metadata": {},
   "outputs": [],
   "source": []
  }
 ],
 "metadata": {
  "kernelspec": {
   "display_name": "Python 3 (ipykernel)",
   "language": "python",
   "name": "python3"
  },
  "language_info": {
   "codemirror_mode": {
    "name": "ipython",
    "version": 3
   },
   "file_extension": ".py",
   "mimetype": "text/x-python",
   "name": "python",
   "nbconvert_exporter": "python",
   "pygments_lexer": "ipython3",
   "version": "3.10.12"
  }
 },
 "nbformat": 4,
 "nbformat_minor": 5
}
