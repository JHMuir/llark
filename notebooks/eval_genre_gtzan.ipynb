{
 "cells": [
  {
   "cell_type": "code",
   "execution_count": 1,
   "id": "690feb5b",
   "metadata": {
    "ExecuteTime": {
     "end_time": "2024-05-29T18:21:39.573681Z",
     "start_time": "2024-05-29T18:21:38.329419Z"
    }
   },
   "outputs": [],
   "source": [
    "import os\n",
    "import re\n",
    "\n",
    "import matplotlib.pyplot as plt\n",
    "import numpy as np\n",
    "import pandas as pd\n",
    "from sklearn.metrics.pairwise import cosine_distances\n",
    "\n",
    "from m2t.evaluation.utils import acc_at_k, confusion_matrix_from_distance_matrix\n",
    "from m2t.evaluation.utils import strip_completion"
   ]
  },
  {
   "cell_type": "code",
   "execution_count": 2,
   "id": "241e5dcc",
   "metadata": {
    "ExecuteTime": {
     "end_time": "2024-05-29T18:21:51.361816Z",
     "start_time": "2024-05-29T18:21:51.351477Z"
    }
   },
   "outputs": [],
   "source": [
    "os.chdir(\"..\")"
   ]
  },
  {
   "cell_type": "code",
   "execution_count": 3,
   "id": "80dc3e73",
   "metadata": {
    "ExecuteTime": {
     "end_time": "2024-05-29T18:21:56.755993Z",
     "start_time": "2024-05-29T18:21:56.262165Z"
    }
   },
   "outputs": [],
   "source": [
    "# v5\n",
    "infer_results = pd.read_csv(\"inference-results/v5/infer_results_gtzan_v5_100000steps.csv\")\n",
    "\n",
    "# LTU\n",
    "# infer_results =  pd.read_csv(\"inference-results/ltu/listen_think_understand_gtzan_genre.csv\")\n",
    "\n",
    "# ImageBind-LLM\n",
    "# infer_results =  pd.read_csv(\"inference-results/imagebind-llm/imagebind-llm_gtzan_genre.csv\")\n",
    "\n",
    "# ablations\n",
    "# infer_results = pd.read_csv(\"inference-results/ablations/infer_results_gtzan_genre_clap_100000steps.csv\")\n",
    "# infer_results = pd.read_csv(\"inference-results/ablations/infer_results_gtzan_genre_ablation-mpt1b_100000steps.csv\")\n",
    "# infer_results = pd.read_csv(\"inference-results/ablations/infer_results_gtzan_data-ablation-1pct_100000steps.csv\")\n",
    "# infer_results = pd.read_csv(\"inference-results/ablations/infer_results_gtzan_data-ablation-10pct_100000steps.csv\")\n",
    "# infer_results = pd.read_csv(\"inference-results/ablations/infer_results_gtzan_data-ablation-50pct_100000steps.csv\")\n"
   ]
  },
  {
   "cell_type": "code",
   "execution_count": 4,
   "id": "63426e85",
   "metadata": {
    "ExecuteTime": {
     "end_time": "2024-05-29T18:22:00.090241Z",
     "start_time": "2024-05-29T18:22:00.070215Z"
    }
   },
   "outputs": [],
   "source": [
    "def _map_fn(x):\n",
    "    x = strip_completion(x)\n",
    "\n",
    "    x = re.sub('\\W+', ' ', x)  # remove multiple consecutive spaces\n",
    "    x = x.replace('Hip Hop', 'hiphop')\n",
    "    x = x.replace('hip hop', 'hiphop')\n",
    "    return x.strip()"
   ]
  },
  {
   "cell_type": "code",
   "execution_count": 5,
   "id": "6f4f6a4f",
   "metadata": {
    "scrolled": false,
    "ExecuteTime": {
     "end_time": "2024-05-29T18:22:00.301048Z",
     "start_time": "2024-05-29T18:22:00.258065Z"
    }
   },
   "outputs": [],
   "source": [
    "if any('caption' in c for c in infer_results.columns):\n",
    "    caption_colname = [c for c in infer_results.columns if 'caption' in c][0]\n",
    "else:\n",
    "    caption_colname = 'model_completion_text'\n",
    "\n",
    "\n",
    "def parse_gtzan_genre_from_id(x):\n",
    "    x = os.path.basename(x)\n",
    "    for char in \"._\":\n",
    "        if char in x:\n",
    "            return x.split(char)[0]\n",
    "\n",
    "\n",
    "infer_results['gtzan_genre'] = infer_results['example_id'].apply(parse_gtzan_genre_from_id)\n",
    "infer_results[caption_colname] = infer_results[caption_colname].map(_map_fn)"
   ]
  },
  {
   "cell_type": "code",
   "execution_count": 6,
   "id": "2ecf16b4",
   "metadata": {
    "ExecuteTime": {
     "end_time": "2024-05-29T18:22:02.738599Z",
     "start_time": "2024-05-29T18:22:02.685937Z"
    }
   },
   "outputs": [
    {
     "data": {
      "text/plain": "                                 model_completion_text gtzan_genre\n0                  The genre of this song is classical   classical\n1                        The genre of this song is pop         pop\n2               This song falls under the genre of pop         pop\n3                        The genre of this song is pop         pop\n4                   The song belongs to the rock genre       metal\n..                                                 ...         ...\n995  The song can be classified as both jazz and in...        jazz\n996                     The genre of this song is folk       blues\n997                   The genre of this song is hiphop      hiphop\n998                      The genre of this song is pop       metal\n999                      The song is in the rock genre       metal\n\n[1000 rows x 2 columns]",
      "text/html": "<div>\n<style scoped>\n    .dataframe tbody tr th:only-of-type {\n        vertical-align: middle;\n    }\n\n    .dataframe tbody tr th {\n        vertical-align: top;\n    }\n\n    .dataframe thead th {\n        text-align: right;\n    }\n</style>\n<table border=\"1\" class=\"dataframe\">\n  <thead>\n    <tr style=\"text-align: right;\">\n      <th></th>\n      <th>model_completion_text</th>\n      <th>gtzan_genre</th>\n    </tr>\n  </thead>\n  <tbody>\n    <tr>\n      <th>0</th>\n      <td>The genre of this song is classical</td>\n      <td>classical</td>\n    </tr>\n    <tr>\n      <th>1</th>\n      <td>The genre of this song is pop</td>\n      <td>pop</td>\n    </tr>\n    <tr>\n      <th>2</th>\n      <td>This song falls under the genre of pop</td>\n      <td>pop</td>\n    </tr>\n    <tr>\n      <th>3</th>\n      <td>The genre of this song is pop</td>\n      <td>pop</td>\n    </tr>\n    <tr>\n      <th>4</th>\n      <td>The song belongs to the rock genre</td>\n      <td>metal</td>\n    </tr>\n    <tr>\n      <th>...</th>\n      <td>...</td>\n      <td>...</td>\n    </tr>\n    <tr>\n      <th>995</th>\n      <td>The song can be classified as both jazz and in...</td>\n      <td>jazz</td>\n    </tr>\n    <tr>\n      <th>996</th>\n      <td>The genre of this song is folk</td>\n      <td>blues</td>\n    </tr>\n    <tr>\n      <th>997</th>\n      <td>The genre of this song is hiphop</td>\n      <td>hiphop</td>\n    </tr>\n    <tr>\n      <th>998</th>\n      <td>The genre of this song is pop</td>\n      <td>metal</td>\n    </tr>\n    <tr>\n      <th>999</th>\n      <td>The song is in the rock genre</td>\n      <td>metal</td>\n    </tr>\n  </tbody>\n</table>\n<p>1000 rows × 2 columns</p>\n</div>"
     },
     "execution_count": 6,
     "metadata": {},
     "output_type": "execute_result"
    }
   ],
   "source": [
    "infer_results[[caption_colname, 'gtzan_genre']]"
   ]
  },
  {
   "cell_type": "code",
   "execution_count": 7,
   "id": "43acce13",
   "metadata": {
    "ExecuteTime": {
     "end_time": "2024-05-29T18:22:03.353944Z",
     "start_time": "2024-05-29T18:22:03.209734Z"
    }
   },
   "outputs": [
    {
     "name": "stdout",
     "output_type": "stream",
     "text": [
      "0.568\n"
     ]
    }
   ],
   "source": [
    "true_genre_in_completion_text = np.mean(\n",
    "    [x['gtzan_genre'] in x[caption_colname].replace('-', '').lower() for _, x in infer_results.iterrows()])\n",
    "print(true_genre_in_completion_text)"
   ]
  },
  {
   "cell_type": "code",
   "execution_count": 8,
   "id": "d717a40d",
   "metadata": {
    "ExecuteTime": {
     "end_time": "2024-05-29T18:22:05.253660Z",
     "start_time": "2024-05-29T18:22:05.203536Z"
    }
   },
   "outputs": [
    {
     "data": {
      "text/plain": "       genre                               distilbert_embedding  \\\n0      blues  [-1.95890859e-01 -1.48396149e-01 -2.10413650e-...   \n1  classical  [-2.28612706e-01 -1.67275388e-02 -4.61115688e-...   \n2    country  [-2.03029126e-01 -3.04874219e-02  6.50378317e-...   \n3      disco  [-1.34419844e-01 -2.36193553e-01  1.12695649e-...   \n4     hiphop  [-7.96971172e-02 -4.36275043e-02 -9.53844786e-...   \n\n                                      clap_embedding  \\\n0  [-0.07412531226873398, -0.03910812735557556, 0...   \n1  [-0.04321962222456932, -0.05108373612165451, -...   \n2  [-0.07268863171339035, -0.03092876262962818, 0...   \n3  [-0.04596007615327835, -0.034143198281526566, ...   \n4  [0.010761477053165436, -0.08321182429790497, 0...   \n\n                                     genre_embedding  \n0  [-0.004343964625149965, -0.02672482468187809, ...  \n1  [-0.015113718807697296, -0.0006674705655314028...  \n2  [0.010151012800633907, -0.02020828239619732, -...  \n3  [-0.03130248188972473, -0.012317366898059845, ...  \n4  [-0.0208600927144289, -0.0029255796689540148, ...  ",
      "text/html": "<div>\n<style scoped>\n    .dataframe tbody tr th:only-of-type {\n        vertical-align: middle;\n    }\n\n    .dataframe tbody tr th {\n        vertical-align: top;\n    }\n\n    .dataframe thead th {\n        text-align: right;\n    }\n</style>\n<table border=\"1\" class=\"dataframe\">\n  <thead>\n    <tr style=\"text-align: right;\">\n      <th></th>\n      <th>genre</th>\n      <th>distilbert_embedding</th>\n      <th>clap_embedding</th>\n      <th>genre_embedding</th>\n    </tr>\n  </thead>\n  <tbody>\n    <tr>\n      <th>0</th>\n      <td>blues</td>\n      <td>[-1.95890859e-01 -1.48396149e-01 -2.10413650e-...</td>\n      <td>[-0.07412531226873398, -0.03910812735557556, 0...</td>\n      <td>[-0.004343964625149965, -0.02672482468187809, ...</td>\n    </tr>\n    <tr>\n      <th>1</th>\n      <td>classical</td>\n      <td>[-2.28612706e-01 -1.67275388e-02 -4.61115688e-...</td>\n      <td>[-0.04321962222456932, -0.05108373612165451, -...</td>\n      <td>[-0.015113718807697296, -0.0006674705655314028...</td>\n    </tr>\n    <tr>\n      <th>2</th>\n      <td>country</td>\n      <td>[-2.03029126e-01 -3.04874219e-02  6.50378317e-...</td>\n      <td>[-0.07268863171339035, -0.03092876262962818, 0...</td>\n      <td>[0.010151012800633907, -0.02020828239619732, -...</td>\n    </tr>\n    <tr>\n      <th>3</th>\n      <td>disco</td>\n      <td>[-1.34419844e-01 -2.36193553e-01  1.12695649e-...</td>\n      <td>[-0.04596007615327835, -0.034143198281526566, ...</td>\n      <td>[-0.03130248188972473, -0.012317366898059845, ...</td>\n    </tr>\n    <tr>\n      <th>4</th>\n      <td>hiphop</td>\n      <td>[-7.96971172e-02 -4.36275043e-02 -9.53844786e-...</td>\n      <td>[0.010761477053165436, -0.08321182429790497, 0...</td>\n      <td>[-0.0208600927144289, -0.0029255796689540148, ...</td>\n    </tr>\n  </tbody>\n</table>\n</div>"
     },
     "execution_count": 8,
     "metadata": {},
     "output_type": "execute_result"
    }
   ],
   "source": [
    "genre_embeds = pd.read_csv(\"inference-results/genre_embeds.csv\")\n",
    "\n",
    "genre_embeds.head()"
   ]
  },
  {
   "cell_type": "code",
   "execution_count": 9,
   "id": "e389bd28",
   "metadata": {
    "ExecuteTime": {
     "end_time": "2024-05-29T18:22:06.402757Z",
     "start_time": "2024-05-29T18:22:06.385537Z"
    }
   },
   "outputs": [
    {
     "data": {
      "text/plain": "{0: 'blues',\n 1: 'classical',\n 2: 'country',\n 3: 'disco',\n 4: 'hiphop',\n 5: 'jazz',\n 6: 'metal',\n 7: 'pop',\n 8: 'reggae',\n 9: 'rock'}"
     },
     "execution_count": 9,
     "metadata": {},
     "output_type": "execute_result"
    }
   ],
   "source": [
    "genre_idxs = genre_embeds['genre'].to_dict()\n",
    "genre_idxs"
   ]
  },
  {
   "cell_type": "code",
   "execution_count": 10,
   "id": "9d8c5c2e",
   "metadata": {
    "ExecuteTime": {
     "end_time": "2024-05-29T18:22:09.687428Z",
     "start_time": "2024-05-29T18:22:09.620036Z"
    }
   },
   "outputs": [
    {
     "data": {
      "text/plain": "gtzan_genre_numeric    0    1    2    3    4    5    6    7    8    9\ngtzan_genre                                                          \nblues                100    0    0    0    0    0    0    0    0    0\nclassical              0  100    0    0    0    0    0    0    0    0\ncountry                0    0  100    0    0    0    0    0    0    0\ndisco                  0    0    0  100    0    0    0    0    0    0\nhiphop                 0    0    0    0  100    0    0    0    0    0\njazz                   0    0    0    0    0  100    0    0    0    0\nmetal                  0    0    0    0    0    0  100    0    0    0\npop                    0    0    0    0    0    0    0  100    0    0\nreggae                 0    0    0    0    0    0    0    0  100    0\nrock                   0    0    0    0    0    0    0    0    0  100",
      "text/html": "<div>\n<style scoped>\n    .dataframe tbody tr th:only-of-type {\n        vertical-align: middle;\n    }\n\n    .dataframe tbody tr th {\n        vertical-align: top;\n    }\n\n    .dataframe thead th {\n        text-align: right;\n    }\n</style>\n<table border=\"1\" class=\"dataframe\">\n  <thead>\n    <tr style=\"text-align: right;\">\n      <th>gtzan_genre_numeric</th>\n      <th>0</th>\n      <th>1</th>\n      <th>2</th>\n      <th>3</th>\n      <th>4</th>\n      <th>5</th>\n      <th>6</th>\n      <th>7</th>\n      <th>8</th>\n      <th>9</th>\n    </tr>\n    <tr>\n      <th>gtzan_genre</th>\n      <th></th>\n      <th></th>\n      <th></th>\n      <th></th>\n      <th></th>\n      <th></th>\n      <th></th>\n      <th></th>\n      <th></th>\n      <th></th>\n    </tr>\n  </thead>\n  <tbody>\n    <tr>\n      <th>blues</th>\n      <td>100</td>\n      <td>0</td>\n      <td>0</td>\n      <td>0</td>\n      <td>0</td>\n      <td>0</td>\n      <td>0</td>\n      <td>0</td>\n      <td>0</td>\n      <td>0</td>\n    </tr>\n    <tr>\n      <th>classical</th>\n      <td>0</td>\n      <td>100</td>\n      <td>0</td>\n      <td>0</td>\n      <td>0</td>\n      <td>0</td>\n      <td>0</td>\n      <td>0</td>\n      <td>0</td>\n      <td>0</td>\n    </tr>\n    <tr>\n      <th>country</th>\n      <td>0</td>\n      <td>0</td>\n      <td>100</td>\n      <td>0</td>\n      <td>0</td>\n      <td>0</td>\n      <td>0</td>\n      <td>0</td>\n      <td>0</td>\n      <td>0</td>\n    </tr>\n    <tr>\n      <th>disco</th>\n      <td>0</td>\n      <td>0</td>\n      <td>0</td>\n      <td>100</td>\n      <td>0</td>\n      <td>0</td>\n      <td>0</td>\n      <td>0</td>\n      <td>0</td>\n      <td>0</td>\n    </tr>\n    <tr>\n      <th>hiphop</th>\n      <td>0</td>\n      <td>0</td>\n      <td>0</td>\n      <td>0</td>\n      <td>100</td>\n      <td>0</td>\n      <td>0</td>\n      <td>0</td>\n      <td>0</td>\n      <td>0</td>\n    </tr>\n    <tr>\n      <th>jazz</th>\n      <td>0</td>\n      <td>0</td>\n      <td>0</td>\n      <td>0</td>\n      <td>0</td>\n      <td>100</td>\n      <td>0</td>\n      <td>0</td>\n      <td>0</td>\n      <td>0</td>\n    </tr>\n    <tr>\n      <th>metal</th>\n      <td>0</td>\n      <td>0</td>\n      <td>0</td>\n      <td>0</td>\n      <td>0</td>\n      <td>0</td>\n      <td>100</td>\n      <td>0</td>\n      <td>0</td>\n      <td>0</td>\n    </tr>\n    <tr>\n      <th>pop</th>\n      <td>0</td>\n      <td>0</td>\n      <td>0</td>\n      <td>0</td>\n      <td>0</td>\n      <td>0</td>\n      <td>0</td>\n      <td>100</td>\n      <td>0</td>\n      <td>0</td>\n    </tr>\n    <tr>\n      <th>reggae</th>\n      <td>0</td>\n      <td>0</td>\n      <td>0</td>\n      <td>0</td>\n      <td>0</td>\n      <td>0</td>\n      <td>0</td>\n      <td>0</td>\n      <td>100</td>\n      <td>0</td>\n    </tr>\n    <tr>\n      <th>rock</th>\n      <td>0</td>\n      <td>0</td>\n      <td>0</td>\n      <td>0</td>\n      <td>0</td>\n      <td>0</td>\n      <td>0</td>\n      <td>0</td>\n      <td>0</td>\n      <td>100</td>\n    </tr>\n  </tbody>\n</table>\n</div>"
     },
     "execution_count": 10,
     "metadata": {},
     "output_type": "execute_result"
    }
   ],
   "source": [
    "infer_results['gtzan_genre'] = infer_results['gtzan_genre'].apply(lambda x: x.split('.')[0])\n",
    "\n",
    "# Create a numeric label column\n",
    "infer_results['gtzan_genre_numeric'] = infer_results['gtzan_genre'].map({v: k for k, v in genre_idxs.items()})\n",
    "\n",
    "# Sanity check the labels\n",
    "pd.crosstab(infer_results['gtzan_genre'], infer_results['gtzan_genre_numeric'])"
   ]
  },
  {
   "cell_type": "markdown",
   "id": "f8286cb1",
   "metadata": {},
   "source": [
    "# OpenAI Embeddings"
   ]
  },
  {
   "cell_type": "code",
   "execution_count": 11,
   "id": "713f1858",
   "metadata": {
    "ExecuteTime": {
     "end_time": "2024-05-29T18:22:16.680032Z",
     "start_time": "2024-05-29T18:22:15.869678Z"
    }
   },
   "outputs": [],
   "source": [
    "import json\n",
    "\n",
    "dist = cosine_distances(np.row_stack(infer_results[caption_colname + '_embedding'].apply(json.loads).tolist()),\n",
    "                        np.row_stack(genre_embeds['genre_embedding'].apply(json.loads).tolist()))"
   ]
  },
  {
   "cell_type": "code",
   "execution_count": 12,
   "id": "77cf991a",
   "metadata": {
    "ExecuteTime": {
     "end_time": "2024-05-29T18:22:16.698893Z",
     "start_time": "2024-05-29T18:22:16.685940Z"
    }
   },
   "outputs": [
    {
     "data": {
      "text/plain": "(1000, 10)"
     },
     "execution_count": 12,
     "metadata": {},
     "output_type": "execute_result"
    }
   ],
   "source": [
    "dist.shape"
   ]
  },
  {
   "cell_type": "code",
   "outputs": [],
   "source": [
    "import scipy\n",
    "import math\n",
    "\n",
    "\n",
    "def clopper_pearson(acc, n, alpha=0.05):\n",
    "    \"\"\"Estimate the confidence interval for a sampled Bernoulli random\n",
    "    variable.\n",
    "    `x` is the number of successes and `n` is the number trials (x <=\n",
    "    n). `alpha` is the confidence level (i.e., the true probability is\n",
    "    inside the confidence interval with probability 1-alpha). The\n",
    "    function returns a `(low, high)` pair of numbers indicating the\n",
    "    interval on the probability.\n",
    "    \"\"\"\n",
    "    x = int(acc * n)\n",
    "    b = scipy.stats.beta.ppf\n",
    "    lo = b(alpha / 2, x, n - x + 1)\n",
    "    hi = b(1 - alpha / 2, x + 1, n - x)\n",
    "    return 0.0 if math.isnan(lo) else lo, 1.0 if math.isnan(hi) else hi"
   ],
   "metadata": {
    "collapsed": false,
    "ExecuteTime": {
     "end_time": "2024-05-29T19:27:37.366348Z",
     "start_time": "2024-05-29T19:27:37.333401Z"
    }
   },
   "id": "918e3e7b42fba51f",
   "execution_count": 23
  },
  {
   "cell_type": "code",
   "execution_count": 33,
   "id": "c337c092",
   "metadata": {
    "ExecuteTime": {
     "end_time": "2024-05-29T20:10:11.895571Z",
     "start_time": "2024-05-29T20:10:09.869787Z"
    }
   },
   "outputs": [],
   "source": [
    "import matplotlib\n",
    "\n",
    "matplotlib.rcParams.update(matplotlib.rcParamsDefault)\n",
    "\n",
    "plot_data = []\n",
    "for k in range(1, 11):\n",
    "    acc = acc_at_k(dist, k=k, labels=infer_results['gtzan_genre_numeric'])\n",
    "    plot_data.append((k, acc))\n",
    "\n",
    "genre_results_at_k = pd.DataFrame(plot_data, columns=[\"k\", \"acc@k\"])\n",
    "genre_results_at_k[\"ci_upper\"] = genre_results_at_k[\"acc@k\"].apply(lambda x: clopper_pearson(x, 1000)[1])\n",
    "genre_results_at_k[\"ci_lower\"] = genre_results_at_k[\"acc@k\"].apply(lambda x: clopper_pearson(x, 1000)[0])\n",
    "\n",
    "fig, ax = plt.subplots(1, 1, figsize=(5, 5))\n",
    "ax.plot(genre_results_at_k[\"k\"],\n",
    "        genre_results_at_k[\"acc@k\"],\n",
    "        \"-o\",\n",
    "        color=\"blue\",\n",
    "        label=\"LLark Acc@k\")\n",
    "ax.fill_between(genre_results_at_k[\"k\"],\n",
    "                genre_results_at_k[\"ci_upper\"],\n",
    "                genre_results_at_k[\"ci_lower\"],\n",
    "                alpha=0.5,\n",
    "                color=\"blue\",\n",
    "                )\n",
    "\n",
    "ax.plot(genre_results_at_k[\"k\"],\n",
    "        genre_results_at_k[\"k\"] / 10,\n",
    "        \"-o\",\n",
    "        color=\"orange\",\n",
    "        label=\"Random Baseline\")\n",
    "ax.scatter(x=1, y=0.71, marker=\"*\", s=128, color=\"darkgrey\", label=\"Current zero-shot contrastive SOTA (CLAP)\")\n",
    "ax.scatter(x=1, y=true_genre_in_completion_text, s=128, marker=\"*\", color=\"blue\",\n",
    "           label=\"True genre text in LLark output\")\n",
    "ax.legend()\n",
    "ax.set_title(\"Genre Classification Acc@K, GTZAN Dataset\")\n",
    "ax.set_xlabel(\"k\")\n",
    "# ax.set_facecolor(\"white\")\n",
    "ax.grid()\n",
    "\n",
    "plt.savefig(\"notebooks/acc-at-k-gtzan.pdf\", bbox_inches=\"tight\")"
   ]
  },
  {
   "cell_type": "code",
   "outputs": [
    {
     "data": {
      "text/plain": "   k  acc@k  ci_upper  ci_lower\n0  1  0.558  0.589071  0.526587\n1  2  0.585  0.615750  0.553748\n2  3  0.673  0.702030  0.642947\n3  4  0.725  0.752479  0.696190\n4  5  0.799  0.823429  0.772797\n5  6  0.868  0.888372  0.845435\n6  7  0.895  0.913315  0.874323\n7  8  0.926  0.941451  0.907988\n8  9  0.990  0.995194  0.981687",
      "text/html": "<div>\n<style scoped>\n    .dataframe tbody tr th:only-of-type {\n        vertical-align: middle;\n    }\n\n    .dataframe tbody tr th {\n        vertical-align: top;\n    }\n\n    .dataframe thead th {\n        text-align: right;\n    }\n</style>\n<table border=\"1\" class=\"dataframe\">\n  <thead>\n    <tr style=\"text-align: right;\">\n      <th></th>\n      <th>k</th>\n      <th>acc@k</th>\n      <th>ci_upper</th>\n      <th>ci_lower</th>\n    </tr>\n  </thead>\n  <tbody>\n    <tr>\n      <th>0</th>\n      <td>1</td>\n      <td>0.558</td>\n      <td>0.589071</td>\n      <td>0.526587</td>\n    </tr>\n    <tr>\n      <th>1</th>\n      <td>2</td>\n      <td>0.585</td>\n      <td>0.615750</td>\n      <td>0.553748</td>\n    </tr>\n    <tr>\n      <th>2</th>\n      <td>3</td>\n      <td>0.673</td>\n      <td>0.702030</td>\n      <td>0.642947</td>\n    </tr>\n    <tr>\n      <th>3</th>\n      <td>4</td>\n      <td>0.725</td>\n      <td>0.752479</td>\n      <td>0.696190</td>\n    </tr>\n    <tr>\n      <th>4</th>\n      <td>5</td>\n      <td>0.799</td>\n      <td>0.823429</td>\n      <td>0.772797</td>\n    </tr>\n    <tr>\n      <th>5</th>\n      <td>6</td>\n      <td>0.868</td>\n      <td>0.888372</td>\n      <td>0.845435</td>\n    </tr>\n    <tr>\n      <th>6</th>\n      <td>7</td>\n      <td>0.895</td>\n      <td>0.913315</td>\n      <td>0.874323</td>\n    </tr>\n    <tr>\n      <th>7</th>\n      <td>8</td>\n      <td>0.926</td>\n      <td>0.941451</td>\n      <td>0.907988</td>\n    </tr>\n    <tr>\n      <th>8</th>\n      <td>9</td>\n      <td>0.990</td>\n      <td>0.995194</td>\n      <td>0.981687</td>\n    </tr>\n  </tbody>\n</table>\n</div>"
     },
     "execution_count": 25,
     "metadata": {},
     "output_type": "execute_result"
    }
   ],
   "source": [
    "genre_results_at_k"
   ],
   "metadata": {
    "collapsed": false,
    "ExecuteTime": {
     "end_time": "2024-05-29T19:30:56.656927Z",
     "start_time": "2024-05-29T19:30:56.624617Z"
    }
   },
   "id": "3e397d11305cbb80",
   "execution_count": 25
  },
  {
   "cell_type": "code",
   "execution_count": 151,
   "id": "026b923a",
   "metadata": {},
   "outputs": [
    {
     "data": {
      "text/plain": [
       "[(1, 0.558),\n",
       " (2, 0.585),\n",
       " (3, 0.673),\n",
       " (4, 0.725),\n",
       " (5, 0.799),\n",
       " (6, 0.868),\n",
       " (7, 0.895),\n",
       " (8, 0.926),\n",
       " (9, 0.99)]"
      ]
     },
     "execution_count": 151,
     "metadata": {},
     "output_type": "execute_result"
    }
   ],
   "source": [
    "plot_data"
   ]
  },
  {
   "cell_type": "code",
   "execution_count": 153,
   "id": "70ecf070",
   "metadata": {},
   "outputs": [
    {
     "data": {
      "image/png": "[encoded data removed]",
      "text/plain": [
       "<Figure size 800x700 with 2 Axes>"
      ]
     },
     "metadata": {},
     "output_type": "display_data"
    }
   ],
   "source": [
    "cm = confusion_matrix_from_distance_matrix(dist, labels=infer_results['gtzan_genre_numeric'])\n",
    "\n",
    "cm = pd.DataFrame(cm, index=genre_embeds['genre'], columns=genre_embeds['genre'])\n",
    "\n",
    "import seaborn as sns\n",
    "\n",
    "fig, ax = plt.subplots(nrows=1, ncols=1, figsize=(8, 7))\n",
    "\n",
    "sns.heatmap(cm, annot=True, ax=ax)\n",
    "ax.set(xlabel='Predicted Genre', ylabel='GTZAN Labeled Genre',\n",
    "       title=\"Confusion Matrix\\nZero-Shot GTZAN Genre Prediction\")\n",
    "plt.savefig(\"confusion_matrix_genre_gtzan.pdf\", bbox_inches=\"tight\")"
   ]
  },
  {
   "cell_type": "markdown",
   "id": "4baffea7",
   "metadata": {},
   "source": [
    "# CLAP Embeddings"
   ]
  },
  {
   "cell_type": "code",
   "execution_count": null,
   "id": "f6a81ae6",
   "metadata": {},
   "outputs": [],
   "source": [
    "# !pip install laion-clap\n",
    "import laion_clap\n",
    "\n",
    "model = laion_clap.CLAP_Module(enable_fusion=False, amodel='HTSAT-base')\n",
    "model.load_ckpt('checkpoints/laion_clap/music_audioset_epoch_15_esc_90.14.pt')\n",
    "\n",
    "# embed the model completions\n",
    "clap_embeds = model.get_text_embedding(infer_results['model_completion_text'].tolist())\n",
    "infer_results['model_completion_text_clap_embed'] = clap_embeds.tolist()\n",
    "\n",
    "# embed the genres\n",
    "genre_embeds = {}\n",
    "for genre in infer_results.gtzan_genre.unique():\n",
    "    genre_embeds[genre] = embed_fn(genre)\n",
    "\n",
    "genre_embeds = pd.DataFrame([(k, v) for k, v in genre_embeds.items()], columns=['genre', 'distilbert_embedding']) \\\n",
    "    .sort_values('genre') \\\n",
    "    .reset_index(drop=True)\n",
    "\n",
    "genre_embeds.head()"
   ]
  },
  {
   "cell_type": "code",
   "execution_count": null,
   "id": "4fb28e14",
   "metadata": {},
   "outputs": [],
   "source": [
    "dist = cosine_distances(np.row_stack(infer_results['model_completion_text_clap_embed'].tolist()),\n",
    "                        np.row_stack(genre_embeds['clap_embedding'].apply(json.loads).values))\n",
    "\n",
    "plot_data = []\n",
    "for k in range(1, 10):\n",
    "    acc = acc_at_k(dist, k=k, labels=infer_results['gtzan_genre_numeric'])\n",
    "    plot_data.append((k, acc))\n",
    "\n",
    "genre_results_at_k = pd.DataFrame(plot_data, columns=[\"k\", \"acc@k\"])\n",
    "\n",
    "plt.plot(genre_results_at_k[\"k\"],\n",
    "         genre_results_at_k[\"acc@k\"],\n",
    "         \"-o\",\n",
    "         label=\"Music2text Acc@k\")\n",
    "plt.plot(genre_results_at_k[\"k\"],\n",
    "         genre_results_at_k[\"k\"] / 10,\n",
    "         \"-o\",\n",
    "         label=\"random baseline\")\n",
    "plt.scatter(x=1, y=0.71, marker=\"*\", s=128, color=\"darkgrey\", label=\"current known zero-shot SOTA\")\n",
    "plt.scatter(x=1, y=true_genre_in_completion_text, s=128, marker=\"*\", label=\"true genre in Music2text output\")\n",
    "plt.grid()\n",
    "plt.legend()\n",
    "plt.title(\"Zero-Shot Genre Acc@K\\nGTZAN Dataset, CLAP Embeddings\")\n",
    "plt.xlabel(\"k\")\n",
    "\n",
    "plot_data"
   ]
  },
  {
   "cell_type": "code",
   "execution_count": null,
   "id": "4400c79a",
   "metadata": {},
   "outputs": [],
   "source": [
    "cm = confusion_matrix_from_distance_matrix(dist, labels=infer_results['gtzan_genre_numeric'])\n",
    "\n",
    "cm = pd.DataFrame(cm, index=genre_embeds['genre'], columns=genre_embeds['genre'])\n",
    "\n",
    "import seaborn as sns\n",
    "\n",
    "fig, ax = plt.subplots(nrows=1, ncols=1, figsize=(8, 7))\n",
    "\n",
    "sns.heatmap(cm, annot=True, ax=ax)\n",
    "ax.set(xlabel='Predicted Genre', ylabel='GTZAN Labeled Genre',\n",
    "       title=\"Confusion MAtrix\\nZero-Shot GTZAN Genre Prediction\")"
   ]
  }
 ],
 "metadata": {
  "kernelspec": {
   "display_name": "Python 3 (ipykernel)",
   "language": "python",
   "name": "python3"
  },
  "language_info": {
   "codemirror_mode": {
    "name": "ipython",
    "version": 3
   },
   "file_extension": ".py",
   "mimetype": "text/x-python",
   "name": "python",
   "nbconvert_exporter": "python",
   "pygments_lexer": "ipython3",
   "version": "3.10.12"
  }
 },
 "nbformat": 4,
 "nbformat_minor": 5
}
